{
 "cells": [
  {
   "cell_type": "code",
   "execution_count": 1,
   "metadata": {},
   "outputs": [],
   "source": [
    "parentfolder = 'D:\\\\Finn\\\\KPUM_NODDI'\n",
    "inputdicombasefolder = 'DICOM_KPUM_NODDI\\\\sourcedata'\n",
    "outputniftibasefolder = 'Data\\\\nifti'\n",
    "outputnrrdbasefolder = 'Data\\\\nrrd'\n",
    "\n",
    "######################################################\n",
    "# User input\n",
    "\n",
    "subject = '010'\n",
    "session = 'MR1'\n",
    "\n",
    "# Define good DCM datafolder as input (and if no data is not good enough, leave blank)\n",
    "dki_dirAP = 's16_DKI_2.5mm_NODDI_73dir_0_1000_2000'\n",
    "dki_dirAP_volb0 = ''\n",
    "\n",
    "dki_dirPA = ''\n",
    "dki_dirPA_volb0 = ''\n",
    "\n",
    "t2w_mcrib = ''\n",
    "t1w_mprage = 's05_MPRAGE'"
   ]
  },
  {
   "cell_type": "code",
   "execution_count": 2,
   "metadata": {},
   "outputs": [
    {
     "name": "stdout",
     "output_type": "stream",
     "text": [
      "Converting DCMs in D:\\Finn\\KPUM_NODDI\\DICOM_KPUM_NODDI\\sourcedata\\sub-010\\ses-MR1\\s16_DKI_2.5mm_NODDI_73dir_0_1000_2000 and save in D:\\Finn\\KPUM_NODDI\\Data\\nifti\\sub-010\\ses-MR1\\dwi with filebase sub-010_ses-MR1_dir-AP_dwi\n",
      "Converting DCMs in D:\\Finn\\KPUM_NODDI\\DICOM_KPUM_NODDI\\sourcedata\\sub-010\\ses-MR1\\s16_DKI_2.5mm_NODDI_73dir_0_1000_2000 and save in D:\\Finn\\KPUM_NODDI\\Data\\nrrd\\sub-010\\ses-MR1\\dwi with filebase sub-010_ses-MR1_dir-AP_dwi\n",
      "No DCMs in D:\\Finn\\KPUM_NODDI\\DICOM_KPUM_NODDI\\sourcedata\\sub-010\\ses-MR1\\. No conversion\n",
      "No DCMs in D:\\Finn\\KPUM_NODDI\\DICOM_KPUM_NODDI\\sourcedata\\sub-010\\ses-MR1\\. No conversion\n",
      "No DCMs in D:\\Finn\\KPUM_NODDI\\DICOM_KPUM_NODDI\\sourcedata\\sub-010\\ses-MR1\\. No conversion\n",
      "No DCMs in D:\\Finn\\KPUM_NODDI\\DICOM_KPUM_NODDI\\sourcedata\\sub-010\\ses-MR1\\. No conversion\n",
      "Converting DCMs in D:\\Finn\\KPUM_NODDI\\DICOM_KPUM_NODDI\\sourcedata\\sub-010\\ses-MR1\\s05_MPRAGE and save in D:\\Finn\\KPUM_NODDI\\Data\\nifti\\sub-010\\ses-MR1\\anat with filebase sub-010_ses-MR1_acq-mprage_T1w\n",
      "Converting DCMs in D:\\Finn\\KPUM_NODDI\\DICOM_KPUM_NODDI\\sourcedata\\sub-010\\ses-MR1\\s05_MPRAGE and save in D:\\Finn\\KPUM_NODDI\\Data\\nrrd\\sub-010\\ses-MR1\\anat with filebase sub-010_ses-MR1_acq-mprage_T1w\n"
     ]
    }
   ],
   "source": [
    "# Convert DICOM to NIfTI and NRRD using dcm2niix\n",
    "\n",
    "import os, subprocess\n",
    "from glob import glob \n",
    "\n",
    "def dicom2nifti(in_path, out_path, out_filebase) :\n",
    "    # Converts DCMs in in_path into NIfTIs to out_path with out_filebase using dcm2niix\n",
    "    #     \n",
    "    # first check if we have any DCMs in in_path\n",
    "    if not glob(os.path.join(in_path,'*.dcm')) :\n",
    "        print(f'No DCMs in {in_path}. No conversion')\n",
    "    else : # we have DCMs to convert\n",
    "        if not os.path.exists(out_path) : # then make this first directory\n",
    "            os.makedirs(out_path)\n",
    "        print(f'Converting DCMs in {in_path} and save in {out_path} with filebase {out_filebase}')\n",
    "        p=subprocess.Popen(f\"dcm2niix -a y -d 1 -b y -w 1 -o {out_path} -f {out_filebase} {in_path}\", stdout=subprocess.PIPE, shell=True)  \n",
    "\n",
    "def dicom2nrrd(in_path, out_path, out_filebase):\n",
    "    # Converts DCMs in_path into NRRDs to out_path with out_filebase using dcm2niix\n",
    "    #     \n",
    "    # first check if we have any DCMs in in_path\n",
    "    if not glob(os.path.join(in_path,'*.dcm')) :\n",
    "        print(f'No DCMs in {in_path}. No conversion')\n",
    "    else : # we have DCMs to convert\n",
    "        if not os.path.exists(out_path): # then make this first directory\n",
    "           os.makedirs(out_path)\n",
    "        print(f'Converting DCMs in {in_path} and save in {out_path} with filebase {out_filebase}')\n",
    "        p=subprocess.Popen(f\"dcm2niix -a y -d 1 -e y -b y -w 1 -o {out_path} -f {out_filebase} {in_path}\", stdout=subprocess.PIPE, shell=True)  \n",
    "\n",
    "# Define input and output parameters for dcm2niix\n",
    "inputdicomdir = os.path.join(parentfolder, inputdicombasefolder, f'sub-{subject}', f'ses-{session}')\n",
    "outputniftidir = os.path.join(parentfolder, outputniftibasefolder, f'sub-{subject}', f'ses-{session}')\n",
    "if not os.path.exists(outputniftidir): # then make this directory\n",
    "    os.makedirs(outputniftidir)\n",
    "outputnrrddir = os.path.join(parentfolder, outputnrrdbasefolder, f'sub-{subject}', f'ses-{session}')\n",
    "if not os.path.exists(outputnrrddir): # then make this directory\n",
    "    os.makedirs(outputnrrddir)\n",
    "\n",
    "# Now convert for different data types\n",
    "\n",
    "# NIfTI\n",
    "# DKI dir-AP data\n",
    "dicom2nifti(os.path.join(inputdicomdir, dki_dirAP), os.path.join(outputniftidir, 'dwi'), f\"sub-{subject}_ses-{session}_dir-AP_dwi\")\n",
    "# DKI dir-PA data\n",
    "dicom2nifti(os.path.join(inputdicomdir, dki_dirPA), os.path.join(outputniftidir, 'fmap'), f\"sub-{subject}_ses-{session}_dir-PA_epi\")\n",
    "# T2w MCRIB data\n",
    "dicom2nifti(os.path.join(inputdicomdir, t2w_mcrib), os.path.join(outputniftidir, 'anat'), f\"sub-{subject}_ses-{session}_acq-mcrib_T2w\")\n",
    "# T1w MPRAGE data\n",
    "dicom2nifti(os.path.join(inputdicomdir, t1w_mprage), os.path.join(outputniftidir, 'anat'), f\"sub-{subject}_ses-{session}_acq-mprage_T1w\")\n",
    "\n",
    "# NRRD\n",
    "# DKI dir-AP data\n",
    "dicom2nrrd(os.path.join(inputdicomdir, dki_dirAP), os.path.join(outputnrrddir, 'dwi'), f\"sub-{subject}_ses-{session}_dir-AP_dwi\")\n",
    "# DKI dir-PA data\n",
    "dicom2nrrd(os.path.join(inputdicomdir, dki_dirPA), os.path.join(outputnrrddir, 'fmap'), f\"sub-{subject}_ses-{session}_dir-PA_epi\")\n",
    "# T2w MCRIB data\n",
    "dicom2nrrd(os.path.join(inputdicomdir, t2w_mcrib), os.path.join(outputnrrddir, 'anat'), f\"sub-{subject}_ses-{session}_acq-mcrib_T2w\")\n",
    "# T1w MPRAGE data\n",
    "dicom2nrrd(os.path.join(inputdicomdir, t1w_mprage), os.path.join(outputnrrddir, 'anat'), f\"sub-{subject}_ses-{session}_acq-mprage_T1w\")\n"
   ]
  }
 ],
 "metadata": {
  "kernelspec": {
   "display_name": "kpum_noddi",
   "language": "python",
   "name": "python3"
  },
  "language_info": {
   "codemirror_mode": {
    "name": "ipython",
    "version": 3
   },
   "file_extension": ".py",
   "mimetype": "text/x-python",
   "name": "python",
   "nbconvert_exporter": "python",
   "pygments_lexer": "ipython3",
   "version": "3.8.16"
  },
  "orig_nbformat": 4
 },
 "nbformat": 4,
 "nbformat_minor": 2
}
