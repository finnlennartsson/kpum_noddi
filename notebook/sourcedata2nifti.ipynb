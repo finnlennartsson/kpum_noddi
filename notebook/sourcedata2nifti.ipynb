{
 "cells": [
  {
   "cell_type": "code",
   "execution_count": 46,
   "metadata": {},
   "outputs": [],
   "source": [
    "parentfolder = 'D:\\\\Finn\\\\KPUM_NODDI'\n",
    "inputdicombasefolder = 'DICOM_KPUM_NODDI\\\\sourcedata'\n",
    "outputniftibasefolder = 'Data\\\\nifti'\n",
    "\n",
    "# User input\n",
    "subject = '0XX'\n",
    "session = 'MR1'\n",
    "\n",
    "# Define good DCM datafolder as input\n",
    "# If the data is not good enough, leave blank\n",
    "dki_dirAP = 's17_DKI_2.5mm_NODDI_dir-AP_79dir_0_1000_2000'\n",
    "dki_dirPA = 's16_DKI_2.5mm_NODDI_dir-PA_2dir_0'\n",
    "t2w_mcrib = 's07_T2W_MCRIB'\n",
    "t1w_mprage = ''"
   ]
  },
  {
   "cell_type": "code",
   "execution_count": 47,
   "metadata": {},
   "outputs": [
    {
     "ename": "OSError",
     "evalue": "[WinError 123] Felaktig syntax för filnamn, katalognamn eller volymetikett: 'D:\\\\Finn\\\\KPUM_NODDI\\\\Data\\nifti'",
     "output_type": "error",
     "traceback": [
      "\u001b[1;31m---------------------------------------------------------------------------\u001b[0m",
      "\u001b[1;31mOSError\u001b[0m                                   Traceback (most recent call last)",
      "Cell \u001b[1;32mIn[47], line 26\u001b[0m\n\u001b[0;32m     24\u001b[0m outputniftidir \u001b[39m=\u001b[39m os\u001b[39m.\u001b[39mpath\u001b[39m.\u001b[39mjoin(parentfolder, outputniftibasefolder, \u001b[39mf\u001b[39m\u001b[39m'\u001b[39m\u001b[39msub-\u001b[39m\u001b[39m{\u001b[39;00msubject\u001b[39m}\u001b[39;00m\u001b[39m'\u001b[39m, \u001b[39mf\u001b[39m\u001b[39m'\u001b[39m\u001b[39mses-\u001b[39m\u001b[39m{\u001b[39;00msession\u001b[39m}\u001b[39;00m\u001b[39m'\u001b[39m)\n\u001b[0;32m     25\u001b[0m \u001b[39mif\u001b[39;00m \u001b[39mnot\u001b[39;00m os\u001b[39m.\u001b[39mpath\u001b[39m.\u001b[39mexists(outputniftidir): \u001b[39m# then make this directory\u001b[39;00m\n\u001b[1;32m---> 26\u001b[0m     os\u001b[39m.\u001b[39;49mmakedirs(outputniftidir)\n\u001b[0;32m     28\u001b[0m \u001b[39m# Now convert for different data types\u001b[39;00m\n\u001b[0;32m     29\u001b[0m \n\u001b[0;32m     30\u001b[0m \u001b[39m# DKI dir-AP data\u001b[39;00m\n\u001b[0;32m     31\u001b[0m dki_dirAP \u001b[39m=\u001b[39m niftioutput(os\u001b[39m.\u001b[39mpath\u001b[39m.\u001b[39mjoin(inputdicomdir, dki_dirAP), os\u001b[39m.\u001b[39mpath\u001b[39m.\u001b[39mjoin(outputniftidir, \u001b[39m'\u001b[39m\u001b[39mdwi\u001b[39m\u001b[39m'\u001b[39m), \u001b[39mf\u001b[39m\u001b[39m\"\u001b[39m\u001b[39msub-\u001b[39m\u001b[39m{\u001b[39;00msubject\u001b[39m}\u001b[39;00m\u001b[39m_ses-\u001b[39m\u001b[39m{\u001b[39;00msession\u001b[39m}\u001b[39;00m\u001b[39m_dir-AP_dwi\u001b[39m\u001b[39m\"\u001b[39m)\n",
      "File \u001b[1;32mc:\\Users\\finnl\\miniconda3\\envs\\kpum_noddi\\lib\\os.py:213\u001b[0m, in \u001b[0;36mmakedirs\u001b[1;34m(name, mode, exist_ok)\u001b[0m\n\u001b[0;32m    211\u001b[0m \u001b[39mif\u001b[39;00m head \u001b[39mand\u001b[39;00m tail \u001b[39mand\u001b[39;00m \u001b[39mnot\u001b[39;00m path\u001b[39m.\u001b[39mexists(head):\n\u001b[0;32m    212\u001b[0m     \u001b[39mtry\u001b[39;00m:\n\u001b[1;32m--> 213\u001b[0m         makedirs(head, exist_ok\u001b[39m=\u001b[39;49mexist_ok)\n\u001b[0;32m    214\u001b[0m     \u001b[39mexcept\u001b[39;00m \u001b[39mFileExistsError\u001b[39;00m:\n\u001b[0;32m    215\u001b[0m         \u001b[39m# Defeats race condition when another thread created the path\u001b[39;00m\n\u001b[0;32m    216\u001b[0m         \u001b[39mpass\u001b[39;00m\n",
      "File \u001b[1;32mc:\\Users\\finnl\\miniconda3\\envs\\kpum_noddi\\lib\\os.py:213\u001b[0m, in \u001b[0;36mmakedirs\u001b[1;34m(name, mode, exist_ok)\u001b[0m\n\u001b[0;32m    211\u001b[0m \u001b[39mif\u001b[39;00m head \u001b[39mand\u001b[39;00m tail \u001b[39mand\u001b[39;00m \u001b[39mnot\u001b[39;00m path\u001b[39m.\u001b[39mexists(head):\n\u001b[0;32m    212\u001b[0m     \u001b[39mtry\u001b[39;00m:\n\u001b[1;32m--> 213\u001b[0m         makedirs(head, exist_ok\u001b[39m=\u001b[39;49mexist_ok)\n\u001b[0;32m    214\u001b[0m     \u001b[39mexcept\u001b[39;00m \u001b[39mFileExistsError\u001b[39;00m:\n\u001b[0;32m    215\u001b[0m         \u001b[39m# Defeats race condition when another thread created the path\u001b[39;00m\n\u001b[0;32m    216\u001b[0m         \u001b[39mpass\u001b[39;00m\n",
      "File \u001b[1;32mc:\\Users\\finnl\\miniconda3\\envs\\kpum_noddi\\lib\\os.py:223\u001b[0m, in \u001b[0;36mmakedirs\u001b[1;34m(name, mode, exist_ok)\u001b[0m\n\u001b[0;32m    221\u001b[0m         \u001b[39mreturn\u001b[39;00m\n\u001b[0;32m    222\u001b[0m \u001b[39mtry\u001b[39;00m:\n\u001b[1;32m--> 223\u001b[0m     mkdir(name, mode)\n\u001b[0;32m    224\u001b[0m \u001b[39mexcept\u001b[39;00m \u001b[39mOSError\u001b[39;00m:\n\u001b[0;32m    225\u001b[0m     \u001b[39m# Cannot rely on checking for EEXIST, since the operating system\u001b[39;00m\n\u001b[0;32m    226\u001b[0m     \u001b[39m# could give priority to other errors like EACCES or EROFS\u001b[39;00m\n\u001b[0;32m    227\u001b[0m     \u001b[39mif\u001b[39;00m \u001b[39mnot\u001b[39;00m exist_ok \u001b[39mor\u001b[39;00m \u001b[39mnot\u001b[39;00m path\u001b[39m.\u001b[39misdir(name):\n",
      "\u001b[1;31mOSError\u001b[0m: [WinError 123] Felaktig syntax för filnamn, katalognamn eller volymetikett: 'D:\\\\Finn\\\\KPUM_NODDI\\\\Data\\nifti'"
     ]
    }
   ],
   "source": [
    "# Convert DICOM to NIFTI using dcm2niix\n",
    "\n",
    "import os\n",
    "\n",
    "class niftioutput:\n",
    "  def __init__(self, dicomfolder, niftifolder, filebase):\n",
    "    self.dicomfolder = dicomfolder\n",
    "    self.niftifolder = niftifolder\n",
    "    self.filebase = filebase\n",
    "\n",
    "def dicom2nifti(in_path, out_path, out_filebase):\n",
    "    # Anonymises input DCM according to data_elements in list\n",
    "    import os, subprocess\n",
    "    if os.path.isdir(in_path): \n",
    "        if not os.path.exists(out_path): # then make this first directory\n",
    "           os.makedirs(out_path)\n",
    "        p=subprocess.Popen(f\"dcm2niix -a y -d 1 -b y -w 1 -o {out_path} -f {out_filebase} {in_path}\", stdout=subprocess.PIPE, shell=True)  \n",
    "    else :\n",
    "       print(f'Input folder {in_path} does not exist, no conversion')\n",
    "\n",
    "\n",
    "# Define input and output parameters for dcm2niix\n",
    "inputdicomdir = os.path.join(parentfolder, inputdicombasefolder, f'sub-{subject}', f'ses-{session}')\n",
    "outputniftidir = os.path.join(parentfolder, outputniftibasefolder, f'sub-{subject}', f'ses-{session}')\n",
    "if not os.path.exists(outputniftidir): # then make this directory\n",
    "    os.makedirs(outputniftidir)\n",
    "\n",
    "# Now convert for different data types\n",
    "\n",
    "# DKI dir-AP data\n",
    "dki_dirAP = niftioutput(os.path.join(inputdicomdir, dki_dirAP), os.path.join(outputniftidir, 'dwi'), f\"sub-{subject}_ses-{session}_dir-AP_dwi\")\n",
    "dicom2nifti(dki_dirAP.dicomfolder, dki_dirAP.niftifolder, dki_dirAP.filebase)\n",
    "# DKI dir-PA data\n",
    "dki_dirPA = niftioutput(os.path.join(inputdicomdir, dki_dirPA), os.path.join(outputniftidir, 'fmap'), f\"sub-{subject}_ses-{session}_dir-PA_epi\")\n",
    "dicom2nifti(dki_dirPA.dicomfolder, dki_dirPA.niftifolder, dki_dirPA.filebase)\n",
    "# T2w MCRIB data\n",
    "t2w_mcrib = niftioutput(os.path.join(inputdicomdir, t2w_mcrib), os.path.join(outputniftidir, 'anat'), f\"sub-{subject}_ses-{session}_acq-mcrib_T2w\")\n",
    "dicom2nifti(t2w_mcrib.dicomfolder, t2w_mcrib.niftifolder, t2w_mcrib.filebase)\n",
    "# T1w MPRAGE data\n",
    "t1w_mprage = niftioutput(os.path.join(inputdicomdir, t1w_mprage), os.path.join(outputniftidir, 'anat'), f\"sub-{subject}_ses-{session}_acq-mprage_T1w\")\n",
    "dicom2nifti(t1w_mprage.dicomfolder, t1w_mprage.niftifolder, t1w_mprage.filebase)"
   ]
  }
 ],
 "metadata": {
  "kernelspec": {
   "display_name": "kpum_noddi",
   "language": "python",
   "name": "python3"
  },
  "language_info": {
   "codemirror_mode": {
    "name": "ipython",
    "version": 3
   },
   "file_extension": ".py",
   "mimetype": "text/x-python",
   "name": "python",
   "nbconvert_exporter": "python",
   "pygments_lexer": "ipython3",
   "version": "3.8.16"
  },
  "orig_nbformat": 4
 },
 "nbformat": 4,
 "nbformat_minor": 2
}
