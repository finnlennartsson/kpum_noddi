{
 "cells": [
  {
   "cell_type": "code",
   "execution_count": 18,
   "metadata": {},
   "outputs": [],
   "source": [
    "parentfolder = 'D:\\\\Finn\\\\KPUM_NODDI'\n",
    "inputdicombasefolder = 'DICOM_KPUM_NODDI\\\\sourcedata'\n",
    "outputniftibasefolder = 'Data\\\\nifti'\n",
    "outputnrrdbasefolder = 'Data\\\\nrrd'\n",
    "\n",
    "# User input\n",
    "subject = '0XX'\n",
    "session = 'MR1'\n",
    "\n",
    "# Define good DCM datafolder as input\n",
    "# If the data is not good enough, leave blank\n",
    "dki_dirAP = 's17_DKI_2.5mm_NODDI_dir-AP_79dir_0_1000_2000'\n",
    "dki_dirPA = 's16_DKI_2.5mm_NODDI_dir-PA_2dir_0'\n",
    "t2w_mcrib = 's05_T2W_MCRIB'\n",
    "t1w_mprage = ''"
   ]
  },
  {
   "cell_type": "code",
   "execution_count": 20,
   "metadata": {},
   "outputs": [
    {
     "name": "stdout",
     "output_type": "stream",
     "text": [
      "No DCMs in D:\\Finn\\KPUM_NODDI\\DICOM_KPUM_NODDI\\sourcedata\\sub-0XX\\ses-MR1\\s17_DKI_2.5mm_NODDI_dir-AP_79dir_0_1000_2000. No conversion\n",
      "No DCMs in D:\\Finn\\KPUM_NODDI\\DICOM_KPUM_NODDI\\sourcedata\\sub-0XX\\ses-MR1\\s16_DKI_2.5mm_NODDI_dir-PA_2dir_0. No conversion\n",
      "No DCMs in D:\\Finn\\KPUM_NODDI\\DICOM_KPUM_NODDI\\sourcedata\\sub-0XX\\ses-MR1\\s05_T2W_MCRIB. No conversion\n",
      "No DCMs in D:\\Finn\\KPUM_NODDI\\DICOM_KPUM_NODDI\\sourcedata\\sub-0XX\\ses-MR1\\. No conversion\n"
     ]
    }
   ],
   "source": [
    "# Convert DICOM to NIFTI using dcm2niix\n",
    "\n",
    "import os\n",
    "\n",
    "def dicom2nifti(in_path, out_path, out_filebase):\n",
    "    # Converts DCMs in in_path into NIfTIs to out_path with out_filebase using dcm2niix\n",
    "    import os, subprocess\n",
    "    from glob import glob \n",
    "    # first check if we have any DCMs in in_path\n",
    "    if not glob(os.path.join(in_path,'*.dcm')) :\n",
    "        print(f'No DCMs in {in_path}. No conversion')\n",
    "    else :\n",
    "        if not os.path.exists(out_path): # then make this first directory\n",
    "                os.makedirs(out_path)\n",
    "        p=subprocess.Popen(f\"dcm2niix -a y -d 1 -b y -w 1 -o {out_path} -f {out_filebase} {in_path}\", stdout=subprocess.PIPE, shell=True)  \n",
    "\n",
    "def dicom2nrrd(in_path, out_path, out_filebase):\n",
    "    # Converts DCMs in_path into NRRDs to out_path with out_filebase using dcm2niix\n",
    "    import os, subprocess\n",
    "    if os.path.isdir(in_path): \n",
    "        if not os.path.exists(out_path): # then make this first directory\n",
    "           os.makedirs(out_path)\n",
    "        p=subprocess.Popen(f\"dcm2niix -a y -d 1 -e y -b y -w 1 -o {out_path} -f {out_filebase} {in_path}\", stdout=subprocess.PIPE, shell=True)  \n",
    "    else :\n",
    "       print(f'Input folder {in_path} does not exist, no conversion')\n",
    "\n",
    "# Define input and output parameters for dcm2niix\n",
    "inputdicomdir = os.path.join(parentfolder, inputdicombasefolder, f'sub-{subject}', f'ses-{session}')\n",
    "outputniftidir = os.path.join(parentfolder, outputniftibasefolder, f'sub-{subject}', f'ses-{session}')\n",
    "if not os.path.exists(outputniftidir): # then make this directory\n",
    "    os.makedirs(outputniftidir)\n",
    "outputnrrddir = os.path.join(parentfolder, outputnrrdbasefolder, f'sub-{subject}', f'ses-{session}')\n",
    "if not os.path.exists(outputnrrddir): # then make this directory\n",
    "    os.makedirs(outputnrrddir)\n",
    "\n",
    "# Now convert for different data types\n",
    "\n",
    "# DKI dir-AP data\n",
    "dki_dirAP_nifti = conversionoutput(os.path.join(inputdicomdir, dki_dirAP), os.path.join(outputniftidir, 'dwi'), f\"sub-{subject}_ses-{session}_dir-AP_dwi\")\n",
    "dicom2nifti(os.path.join(inputdicomdir, dki_dirAP), os.path.join(outputniftidir, 'dwi'), f\"sub-{subject}_ses-{session}_dir-AP_dwi\")\n",
    "dicom2nrrd(os.path.join(inputdicomdir, dki_dirAP), os.path.join(outputnrrddir, 'dwi'), f\"sub-{subject}_ses-{session}_dir-AP_dwi\")\n",
    "\n",
    "# DKI dir-PA data\n",
    "dicom2nifti(os.path.join(inputdicomdir, dki_dirPA), os.path.join(outputniftidir, 'fmap'), f\"sub-{subject}_ses-{session}_dir-PA_epi\")\n",
    "dicom2nrrd(os.path.join(inputdicomdir, dki_dirPA), os.path.join(outputnrrddir, 'fmap'), f\"sub-{subject}_ses-{session}_dir-PA_epi\")\n",
    "\n",
    "# T2w MCRIB data\n",
    "dicom2nifti(os.path.join(inputdicomdir, t2w_mcrib), os.path.join(outputniftidir, 'anat'), f\"sub-{subject}_ses-{session}_acq-mcrib_T2w\")\n",
    "dicom2nrrd(os.path.join(inputdicomdir, t2w_mcrib), os.path.join(outputnrrddir, 'anat'), f\"sub-{subject}_ses-{session}_acq-mcrib_T2w\")\n",
    "\n",
    "# T1w MPRAGE data\n",
    "dicom2nifti(os.path.join(inputdicomdir, t1w_mprage), os.path.join(outputniftidir, 'anat'), f\"sub-{subject}_ses-{session}_acq-mprage_T1w\")\n",
    "dicom2nrrd(os.path.join(inputdicomdir, t1w_mprage), os.path.join(outputnrrddir, 'anat'), f\"sub-{subject}_ses-{session}_acq-mprage_T1w\")\n"
   ]
  }
 ],
 "metadata": {
  "kernelspec": {
   "display_name": "kpum_noddi",
   "language": "python",
   "name": "python3"
  },
  "language_info": {
   "codemirror_mode": {
    "name": "ipython",
    "version": 3
   },
   "file_extension": ".py",
   "mimetype": "text/x-python",
   "name": "python",
   "nbconvert_exporter": "python",
   "pygments_lexer": "ipython3",
   "version": "3.8.16"
  },
  "orig_nbformat": 4
 },
 "nbformat": 4,
 "nbformat_minor": 2
}
