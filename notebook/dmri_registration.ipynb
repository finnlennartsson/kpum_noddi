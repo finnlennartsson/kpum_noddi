{
 "cells": [
  {
   "cell_type": "code",
   "execution_count": 5,
   "metadata": {},
   "outputs": [],
   "source": [
    "import os\n",
    "\n",
    "###################################################################################\n",
    "# Check that these are the correct paths running (change if necessary)\n",
    "\n",
    "# Finn's Laptop\n",
    "studydir = '/mnt/d/KPUM_NODDI/Data'\n",
    "codedir = os.path.join(studydir,'code/kpum_noddi')\n",
    "\n",
    "# KPUM Workstation\n",
    "studydir = '/mnt/e/Finn/KPUM_NODDI/Data'\n",
    "codedir = os.path.join('/home/radio/KPUM_NODDI','code/kpum_noddi')\n",
    "\n",
    "# Finn's Laptop\n",
    "studydir = '/mnt/d/KPUM_NODDI/Data'\n",
    "codedir = os.path.join(studydir,'code/kpum_noddi')\n",
    "\n",
    "# Atlas for registration\n",
    "atlas = 'M-CRIB'\n",
    "\n",
    "###################################################################################\n",
    "# USER INPUT - START\n",
    "\n",
    "# Participant details\n",
    "subject = '0XX' # e.g. 035\n",
    "session = 'MR1' # e.g. MR1\n",
    "derivatives = 'derivatives/dMRI_np_testing_ipynb_tractography_pipeline' # e.g. derivatives/dMRI_np' or 'derivatives/dMRI_op'\n",
    "protocol = 'NEW' # 'NEW' or 'ORIG'\n",
    "\n",
    "# USER INPUT - END\n",
    "##################################################################################\n",
    "\n",
    "# tsv-files to keep track of in studydir/niftibasefolder\n",
    "subjecttrackerfile = 'Subject_Tracker_for_dmri_registration.tsv'"
   ]
  },
  {
   "cell_type": "code",
   "execution_count": 6,
   "metadata": {},
   "outputs": [
    {
     "name": "stdout",
     "output_type": "stream",
     "text": [
      "Generating 5TT image using MRtrix's 5ttgen mcrib routine\n",
      "Subject:       \t0XX\n",
      "Session:        MR1\n",
      "Studydir:       /mnt/d/KPUM_NODDI/Data\n",
      "T2w:            /mnt/d/KPUM_NODDI/Data/derivatives/dMRI_np_testing_ipynb_tractography_pipeline/sub-0XX/ses-MR1/anat/orig/sub-0XX_ses-MR1_acq-mcrib_T2w.nii\n",
      "Directory:     \t/mnt/d/KPUM_NODDI/Data/derivatives/dMRI_np_testing_ipynb_tractography_pipeline/sub-0XX/ses-MR1\n",
      "Threads:        10\n",
      "\n",
      "CodeDir:        /mnt/d/KPUM_NODDI/Data/code/kpum_noddi/shell\n",
      "/mnt/d/KPUM_NODDI/Data/code/kpum_noddi/shell/dmri_5TT_registration.sh    0XX MR1 /mnt/d/KPUM_NODDI/Data -d /mnt/d/KPUM_NODDI/Data/derivatives/dMRI_np_testing_ipynb_tractography_pipeline/sub-0XX/ses-MR1 -a M-CRIB -p NEW\n",
      "----------------------------\n",
      "Running dmri_5TT_registration on subject 0XX and session MR1\n",
      "\n"
     ]
    },
    {
     "name": "stderr",
     "output_type": "stream",
     "text": [
      "5ttgen: \n",
      "5ttgen: Note that this script makes use of commands / algorithms that have relevant articles for citation; INCLUDING FROM EXTERNAL SOFTWARE PACKAGES. Please consult the help page (-help option) for more information.\n",
      "5ttgen: \n",
      "5ttgen: Generated scratch directory: /mnt/d/KPUM_NODDI/Data/derivatives/dMRI_np_testing_ipynb_tractography_pipeline/sub-0XX/ses-MR1/anat/5ttgen_mcrib\n",
      "Command:  mrconvert /mnt/d/KPUM_NODDI/Data/derivatives/dMRI_np_testing_ipynb_tractography_pipeline/sub-0XX/ses-MR1/anat/sub-0XX_ses-MR1_desc-restore_T2w.nii /mnt/d/KPUM_NODDI/Data/derivatives/dMRI_np_testing_ipynb_tractography_pipeline/sub-0XX/ses-MR1/anat/5ttgen_mcrib/input_raw.mif\n",
      "Command:  mrconvert /mnt/d/KPUM_NODDI/Data/derivatives/dMRI_np_testing_ipynb_tractography_pipeline/sub-0XX/ses-MR1/anat/sub-0XX_ses-MR1_space-T2w_mask.nii /mnt/d/KPUM_NODDI/Data/derivatives/dMRI_np_testing_ipynb_tractography_pipeline/sub-0XX/ses-MR1/anat/5ttgen_mcrib/mask.mif -datatype bit -strides -1,+2,+3\n",
      "5ttgen: Importing M-CRIB data to scratch directory... [====================================================]\n",
      "5ttgen: Changing to scratch directory (/mnt/d/KPUM_NODDI/Data/derivatives/dMRI_np_testing_ipynb_tractography_pipeline/sub-0XX/ses-MR1/anat/5ttgen_mcrib)\n",
      "Command:  mrcalc input_raw.mif mask.mif -mul input.mif\n",
      "Command:  mrconvert input.mif input.nii\n",
      "Command:  mrconvert mask.mif mask.nii -datatype bit\n",
      "Command:  antsJointLabelFusion.sh -d 3 -t input.nii -p posterior%04d.nii.gz -g template_01.nii -l template_labels_01.nii -g template_02.nii -l template_labels_02.nii -g template_03.nii -l template_labels_03.nii -g template_04.nii -l template_labels_04.nii -g template_05.nii -l template_labels_05.nii -g template_06.nii -l template_labels_06.nii -g template_07.nii -l template_labels_07.nii -g template_08.nii -l template_labels_08.nii -g template_09.nii -l template_labels_09.nii -g template_10.nii -l template_labels_10.nii -o input_parcellation_ -q 1 -c 0 -k 1\n",
      "Command:  antsJointFusion -d 3 -t input.nii --verbose 1 -g input_parcellation_template_01_0_Warped.nii.gz -l input_parcellation_template_01_0_WarpedLabels.nii.gz -g input_parcellation_template_02_1_Warped.nii.gz -l input_parcellation_template_02_1_WarpedLabels.nii.gz -g input_parcellation_template_03_2_Warped.nii.gz -l input_parcellation_template_03_2_WarpedLabels.nii.gz -g input_parcellation_template_04_3_Warped.nii.gz -l input_parcellation_template_04_3_WarpedLabels.nii.gz -g input_parcellation_template_05_4_Warped.nii.gz -l input_parcellation_template_05_4_WarpedLabels.nii.gz -g input_parcellation_template_06_5_Warped.nii.gz -l input_parcellation_template_06_5_WarpedLabels.nii.gz -g input_parcellation_template_07_6_Warped.nii.gz -l input_parcellation_template_07_6_WarpedLabels.nii.gz -g input_parcellation_template_08_7_Warped.nii.gz -l input_parcellation_template_08_7_WarpedLabels.nii.gz -g input_parcellation_template_09_8_Warped.nii.gz -l input_parcellation_template_09_8_WarpedLabels.nii.gz -g input_parcellation_template_10_9_Warped.nii.gz -l input_parcellation_template_10_9_WarpedLabels.nii.gz -o [input_parcellation_Labels.nii.gz,input_parcellation_Intensity.nii.gz,posterior%04d.nii.gz]\n",
      "Command:  mrmath [posterior*.nii.gz (70 items)] sum cGM.mif\n",
      "Command:  mrmath [posterior00*.nii.gz (16 items)] sum sGM.mif\n",
      "Command:  mrmath [posterior0*.nii.gz (7 items)] sum WM.mif\n",
      "Command:  mrmath [posterior00*.nii.gz (5 items)] sum CSF.mif\n",
      "Command:  mrmath WM.mif cGM.mif sGM.mif CSF.mif sum tissue_sum.mif\n",
      "Command:  mrcalc mask.nii cGM.mif tissue_sum.mif -divide 0 -if cgm_norm.mif\n",
      "Command:  mrcalc mask.nii sGM.mif tissue_sum.mif -divide 0 -if sgm_norm.mif\n",
      "Command:  mrcalc mask.nii WM.mif tissue_sum.mif -divide 0 -if wm_norm.mif\n",
      "Command:  mrcalc mask.nii CSF.mif tissue_sum.mif -divide 0 -if csf_norm.mif\n",
      "Command:  mrcalc csf_norm.mif 0 -mul path.mif\n",
      "Command:  mrcat cgm_norm.mif sgm_norm.mif wm_norm.mif csf_norm.mif path.mif - -axis 3 | mrconvert - combined_precrop.mif -strides +2,+3,+4,+1\n",
      "Command:  mrmath combined_precrop.mif sum - -axis 3 | mrthreshold - - -abs 0.5 | mrgrid combined_precrop.mif crop result.mif -mask -\n",
      "Command:  mrconvert result.mif /mnt/d/KPUM_NODDI/Data/derivatives/dMRI_np_testing_ipynb_tractography_pipeline/sub-0XX/ses-MR1/anat/sub-0XX_ses-MR1_5TT.nii\n",
      "Command:  mrconvert input_parcellation_Labels.nii.gz /mnt/d/KPUM_NODDI/Data/derivatives/dMRI_np_testing_ipynb_tractography_pipeline/sub-0XX/ses-MR1/anat/sub-0XX_ses-MR1_desc-mcrib_dseg.nii\n",
      "Command:  5ttcheck result.mif\n",
      "5ttgen: Changing back to original directory (/mnt/d/KPUM_NODDI/Data/derivatives/dMRI_np_testing_ipynb_tractography_pipeline/sub-0XX/ses-MR1/anat)\n",
      "5ttgen: Scratch directory retained; location: /mnt/d/KPUM_NODDI/Data/derivatives/dMRI_np_testing_ipynb_tractography_pipeline/sub-0XX/ses-MR1/anat/5ttgen_mcrib\n",
      "mrcalc: [100%] computing: (anat/sub-0XX_ses-MR1_desc-restore_T2w.nii * anat/sub-0XX_ses-MR1_space-T2w_mask.nii)\u001b[0K[0K\u001b[?7h\u001b[?7l\u001b[?7l\u001b[?7l\u001b[?7l\u001b[?7l\n"
     ]
    },
    {
     "name": "stdout",
     "output_type": "stream",
     "text": [
      "Rigid-body linear registration using FSL's FLIRT with BBR\n"
     ]
    },
    {
     "name": "stderr",
     "output_type": "stream",
     "text": [
      "mrconvert: [100%] copying from \"anat/sub-0XX_ses-MR1_5TT.nii\" to \"anat/sub-0XX_ses-MR1_5TTwm.nii\"\u001b[0K[0K\u001b[?7h\u001b[?7l\n",
      "mrtransform: [100%] copying from \"anat/sub-0...es-MR1_desc-restore_T2w.nii\" to \"anat/sub-0...ore-brain_space-dwi_T2w.nii\"...\u001b[0K[0K\u001b[?7h\u001b[?7l\u001b[?7l\u001b[?7l\u001b[?7l\u001b[?7l\u001b[?7l\u001b[?7l\u001b[?7l\u001b[?7l\u001b[?7l\u001b[?7l\u001b[?7l\u001b[?7l\u001b[?7l\u001b[?7l\u001b[?7l\u001b[?7l\u001b[?7l\u001b[?7l\u001b[?7l\u001b[?7l\u001b[?7l\u001b[?7l\u001b[?7l\u001b[?7l\u001b[?7l\u001b[?7l\u001b[?7l\u001b[?7l\n",
      "mrconvert: \u001b[01;31m[ERROR] output file \"dwi/sub-0XX_ses-MR1_desc-restore-brain_space-dwi_T2w.mif\" already exists (use -force option to force overwrite)\u001b[0m\n",
      "mrconvert: \u001b[01;31m[ERROR] error creating image \"dwi/sub-0XX_ses-MR1_desc-restore-brain_space-dwi_T2w.mif\"\u001b[0m\n",
      "mrtransform: [100%] copying from \"anat/sub-0XX_ses-MR1_5TT.nii\" to \"dwi/5TT/su...X_ses-MR1_space-dwi_5TT.mif\"...\u001b[0K[0K\u001b[?7h\u001b[?7l\u001b[?7l\u001b[?7l\u001b[?7l\u001b[?7l\u001b[?7l\u001b[?7l\u001b[?7l\u001b[?7l\u001b[?7l\u001b[?7l\u001b[?7l\u001b[?7l\u001b[?7l\u001b[?7l\u001b[?7l\u001b[?7l\u001b[?7l\u001b[?7l\u001b[?7l\u001b[?7l\u001b[?7l\u001b[?7l\u001b[?7l\u001b[?7l\u001b[?7l\u001b[?7l\u001b[?7l\u001b[?7l\u001b[?7l\u001b[?7l\u001b[?7l\n",
      "mrtransform: [100%] preloading data for \"anat/sub-0XX_ses-MR1_desc-mcrib_dseg.nii\"\u001b[0K[0K\u001b[?7h\u001b[?7l\u001b[?7l\u001b[?7l\n",
      "mrtransform: [100%] copying from \"anat/sub-0XX_ses-MR1_desc-mcrib_dseg.nii\" to \"dwi/parcel...sc-mcrib_space-dwi_dseg.mif\"...\u001b[0K[0K\u001b[?7h\u001b[?7l\u001b[?7l\u001b[?7l\u001b[?7l\u001b[?7l\u001b[?7l\u001b[?7l\u001b[?7l\u001b[?7l\u001b[?7l\u001b[?7l\u001b[?7l\u001b[?7l\u001b[?7l\u001b[?7l\u001b[?7l\n"
     ]
    },
    {
     "name": "stdout",
     "output_type": "stream",
     "text": [
      "Total runtime = 01:31:40\n"
     ]
    }
   ],
   "source": [
    "import os\n",
    "\n",
    "# Define I/O folders and files\n",
    "#niftifolder = os.path.join(studydir, niftibasefolder, os.path.join(f'sub-{subject}',f'ses-{session}'))\n",
    "datadir = os.path.join(studydir, derivatives, os.path.join(f'sub-{subject}',f'ses-{session}'))\n",
    "if not os.path.exists(datadir): # then make this directory\n",
    "    os.makedirs(datadir)\n",
    "# TSV-file subject tracker file\n",
    "subjecttrackertsv = os.path.join(studydir, derivatives, subjecttrackerfile)\n",
    "\n",
    "def perform_process(processcall) :\n",
    "    import os, subprocess\n",
    "    # Perform the process given by the processcall by launching into terminal\n",
    "    p=subprocess.Popen(processcall, stdout=subprocess.PIPE, shell=True)\n",
    "    # Poll process.stdout to show stdout live\n",
    "    while True:\n",
    "        output = p.stdout.readline()\n",
    "        if p.poll() is not None:\n",
    "            break\n",
    "        if output:\n",
    "            print(output.strip().decode(\"utf-8\"))\n",
    "    rc = p.poll()\n",
    "\n",
    "\n",
    "########################################\n",
    "## START\n",
    "\n",
    "import os \n",
    "import pandas as pd\n",
    "\n",
    "currdir = os.getcwd()\n",
    "os.chdir(studydir)\n",
    "\n",
    "## Process to perform - dmri_registration\n",
    "process = 'dmri_registration'\n",
    "processfile = 'dmri_5TT_registration.sh'\n",
    "processfilepath = os.path.join(codedir,'shell', processfile)\n",
    "processcall = f\"bash {processfilepath} {subject} {session} {studydir} -d {datadir} -a {atlas} -p {protocol}\"\n",
    "perform_process(processcall)\n",
    "\n",
    "os.chdir(currdir)"
   ]
  },
  {
   "cell_type": "code",
   "execution_count": null,
   "metadata": {},
   "outputs": [],
   "source": []
  }
 ],
 "metadata": {
  "kernelspec": {
   "display_name": "Python 3 (ipykernel)",
   "language": "python",
   "name": "python3"
  },
  "language_info": {
   "codemirror_mode": {
    "name": "ipython",
    "version": 3
   },
   "file_extension": ".py",
   "mimetype": "text/x-python",
   "name": "python",
   "nbconvert_exporter": "python",
   "pygments_lexer": "ipython3",
   "version": "3.10.10"
  }
 },
 "nbformat": 4,
 "nbformat_minor": 2
}
