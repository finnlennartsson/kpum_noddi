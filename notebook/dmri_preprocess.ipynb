{
 "cells": [
  {
   "cell_type": "code",
   "execution_count": 1,
   "metadata": {},
   "outputs": [],
   "source": [
    "parentfolder = 'D:\\\\Finn\\\\KPUM_NODDI'\n",
    "inputniftibasefolder = 'Data\\\\nifti'\n",
    "outputderivativesbasefolder = 'Data\\\\derivatives\\\\dMRI'\n",
    "\n",
    "# User input\n",
    "subject = '0XX'\n",
    "session = 'MR1'\n",
    "# check that this file will be the correct file in the nifti-folder\n",
    "dwiAP = f'dwi\\\\sub-{subject}_ses-{session}_dir-AP_dwi.nii'\n",
    "bvalAP = f'dwi\\\\sub-{subject}_ses-{session}_dir-AP_dwi.bval'\n",
    "bvecAP = f'dwi\\\\sub-{subject}_ses-{session}_dir-AP_dwi.bvec'"
   ]
  },
  {
   "cell_type": "code",
   "execution_count": 2,
   "metadata": {},
   "outputs": [],
   "source": [
    "# Define input and output parameters for further processing\n",
    "import os\n",
    "\n",
    "inputniftidir = os.path.join(parentfolder, inputniftibasefolder, f'sub-{subject}', f'ses-{session}')\n",
    "outputderivativesdir = os.path.join(parentfolder, outputderivativesbasefolder, f'sub-{subject}', f'ses-{session}')\n",
    "if not os.path.exists(outputderivativesdir): # then make this directory\n",
    "    os.makedirs(outputderivativesdir)\n",
    "\n",
    "# 0. Create subfolder structure in $datadir\n",
    "subfolders = ['anat', 'dwi', 'fmap', 'xfm', 'qc']\n",
    "for folder in subfolders:\n",
    "    if not os.path.exists(os.path.join(outputderivativesdir, folder)):\n",
    "        os.makedirs(os.path.join(outputderivativesdir, folder))"
   ]
  },
  {
   "cell_type": "code",
   "execution_count": 3,
   "metadata": {},
   "outputs": [],
   "source": [
    "# following https://dipy.org/documentation/1.6.0./examples_built/motion_correction/#example-motion-correction\n",
    "from dipy.core.gradients import gradient_table\n",
    "from dipy.data import get_fnames\n",
    "from dipy.io.image import load_nifti, save_nifti\n",
    "from dipy.io.gradients import read_bvals_bvecs"
   ]
  },
  {
   "cell_type": "code",
   "execution_count": null,
   "metadata": {},
   "outputs": [],
   "source": [
    "# We start by "
   ]
  },
  {
   "cell_type": "code",
   "execution_count": null,
   "metadata": {},
   "outputs": [],
   "source": [
    "# https://carpentries-incubator.github.io/SDC-BIDS-dMRI/preprocessing/index.html\n",
    "\n",
    "\n"
   ]
  }
 ],
 "metadata": {
  "kernelspec": {
   "display_name": "kpum_noddi",
   "language": "python",
   "name": "python3"
  },
  "language_info": {
   "codemirror_mode": {
    "name": "ipython",
    "version": 3
   },
   "file_extension": ".py",
   "mimetype": "text/x-python",
   "name": "python",
   "nbconvert_exporter": "python",
   "pygments_lexer": "ipython3",
   "version": "3.11.2"
  },
  "orig_nbformat": 4
 },
 "nbformat": 4,
 "nbformat_minor": 2
}
