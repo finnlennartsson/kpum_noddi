{
 "cells": [
  {
   "cell_type": "code",
   "execution_count": 19,
   "metadata": {},
   "outputs": [],
   "source": [
    "###################################################################################\n",
    "# Check that these are the correct paths running (change if necessary)\n",
    "\n",
    "# Finn's Laptop\n",
    "dicombasefolder = '/mnt/d/Finn/KPUM_NODDI/DICOM_KPUM_NODDI'\n",
    "\n",
    "# KPUM Workstation\n",
    "#dicombasefolder = '/mnt/e/Finn/KPUM_NODDI/DICOM_KPUM_NODDI'\n",
    "\n",
    "# sourcedata base folder to go within dicom base folder\n",
    "sourcedatabasefolder = 'sourcedata'\n",
    "\n",
    "###################################################################################\n",
    "# User input\n",
    "\n",
    "# Participant details\n",
    "subject = '0XX'     # Subject's study ID\n",
    "session = 'MR1'     # Current scan's session ID \n",
    "\n",
    "# The DICOM folder to be processed\n",
    "dicomdatafolder = '0XX_8453727_20230329/DICOM'\n",
    "       \n",
    "###################################################################################"
   ]
  },
  {
   "cell_type": "code",
   "execution_count": null,
   "metadata": {},
   "outputs": [],
   "source": [
    "import os, subprocess\n",
    "\n",
    "# Define path and create output dicomdir if not present\n",
    "outputdicomdir = os.path.join(dicombasefolder, sourcedatabasefolder, f'sub-{subject}', f'ses-{session}')\n",
    "if not os.path.exists(outputdicomdir): # then make this directory\n",
    "    os.makedirs(outputdicomdir)\n",
    "\n",
    "# Run bash-script\n",
    "print(\"Start re-organising and anonymizing DCMs\")\n",
    "result = subprocess.run(f\"bash ../shell/nifti_dicomdir2sourcedata.sh {dicombasefolder} {dicomdatafolder} {subject} {session} -sourcedata {sourcedatabasefolder}\", stdout=subprocess.PIPE, shell=True)\n",
    "#print(result.stdout)\n",
    "print(\"Done re-organising and anonymizing DCMs\")"
   ]
  }
 ],
 "metadata": {
  "kernelspec": {
   "display_name": "kpum_wsl",
   "language": "python",
   "name": "python3"
  },
  "language_info": {
   "codemirror_mode": {
    "name": "ipython",
    "version": 3
   },
   "file_extension": ".py",
   "mimetype": "text/x-python",
   "name": "python",
   "nbconvert_exporter": "python",
   "pygments_lexer": "ipython3",
   "version": "3.10.10"
  },
  "orig_nbformat": 4
 },
 "nbformat": 4,
 "nbformat_minor": 2
}
