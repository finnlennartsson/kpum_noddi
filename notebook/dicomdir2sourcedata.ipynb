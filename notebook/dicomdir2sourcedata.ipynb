{
 "cells": [
  {
   "cell_type": "code",
   "execution_count": 23,
   "metadata": {},
   "outputs": [],
   "source": [
    "###################################################################################\n",
    "# Check that these are the correct paths running (change if necessary)\n",
    "\n",
    "# Finn's Laptop\n",
    "dicombasefolder = '/mnt/d/Finn/KPUM_NODDI/DICOM_KPUM_NODDI'\n",
    "\n",
    "# KPUM Workstation\n",
    "#dicombasefolder = '/mnt/e/Finn/KPUM_NODDI/DICOM_KPUM_NODDI'\n",
    "\n",
    "# sourcedata base folder to go within dicom base folder\n",
    "sourcedatabasefolder = 'sourcedata'\n",
    "\n",
    "# tsv-files to keep track of in dicombasefolder\n",
    "subjecttrackerpath = dicombasefolder\n",
    "subjecttrackerfile = 'Subject_Tracker_for_dicomdir2sourcedata.tsv'\n",
    "\n",
    "###################################################################################\n",
    "# User input\n",
    "\n",
    "# Participant details\n",
    "subject = '002'     # Subject's study ID\n",
    "session = 'MR1'     # Current scan's session ID \n",
    "\n",
    "# The DICOM folder to be processed\n",
    "#dicomdatafolder = '002_MR1_8193760_20210512/DICOM_fromPACS'\n",
    "dicomdatafolder = '002_MR1_8193760_20210512/DICOM_NODDI'\n",
    "       \n",
    "###################################################################################"
   ]
  },
  {
   "cell_type": "code",
   "execution_count": 24,
   "metadata": {},
   "outputs": [
    {
     "name": "stdout",
     "output_type": "stream",
     "text": [
      "Start re-organising and anonymizing DCMs\n"
     ]
    }
   ],
   "source": [
    "import os, subprocess\n",
    "import pandas as pd\n",
    "\n",
    "# Define path and create output dicomdir if not present\n",
    "outputdicomdir = os.path.join(dicombasefolder, sourcedatabasefolder, f'sub-{subject}', f'ses-{session}')\n",
    "if not os.path.exists(outputdicomdir): # then make this directory\n",
    "    os.makedirs(outputdicomdir)\n",
    "\n",
    "# Read the Subject_Tracker_dicomdir2sourcedata.tsv\n",
    "subjecttrackertsv = os.path.join(subjecttrackerpath, subjecttrackerfile)\n",
    "df = pd.read_csv(subjecttrackertsv, sep=\"\\t\")\n",
    "df.fillna('', inplace=True)\n",
    "\n",
    "# Check if not converted\n",
    "if  [ df.loc[df['dicomfolder'] == dicomdatafolder, ['converted']] != 'Yes' ] :\n",
    "    # Run bash-script\n",
    "    print(\"Start re-organising and anonymizing DCMs\")\n",
    "    result = subprocess.run(f\"bash ../shell/nifti_dicomdir2sourcedata.sh {dicombasefolder} {dicomdatafolder} {subject} {session} -sourcedata {sourcedatabasefolder}\", stdout=subprocess.PIPE, shell=True)\n",
    "    #print(result.stdout)\n",
    "    # Update Subject_Tracker_dicomdir2sourcedata.tsv\n",
    "    df.loc[df['dicomfolder'] == dicomdatafolder, ['converted']] = 'Yes'\n",
    "    df.loc[df['dicomfolder'] == dicomdatafolder, ['sourcedatafolder']] = os.path.join(sourcedatabasefolder, f'sub-{subject}', f'ses-{session}')\n",
    "    df.to_csv(os.path.join(dicombasefolder, subjecttrackertsv), sep=\"\\t\", index=False)\n",
    "    print(\"Done re-organising and anonymizing DCMs\")\n",
    "else :\n",
    "    print(\"Done re-organising and anonymizing DCMs\")\n"
   ]
  }
 ],
 "metadata": {
  "kernelspec": {
   "display_name": "kpum_wsl",
   "language": "python",
   "name": "python3"
  },
  "language_info": {
   "codemirror_mode": {
    "name": "ipython",
    "version": 3
   },
   "file_extension": ".py",
   "mimetype": "text/x-python",
   "name": "python",
   "nbconvert_exporter": "python",
   "pygments_lexer": "ipython3",
   "version": "3.10.10"
  },
  "orig_nbformat": 4
 },
 "nbformat": 4,
 "nbformat_minor": 2
}
