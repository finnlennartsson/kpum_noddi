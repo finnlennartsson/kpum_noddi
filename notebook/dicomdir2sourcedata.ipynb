{
 "cells": [
  {
   "cell_type": "code",
   "execution_count": 1,
   "id": "975a1878",
   "metadata": {},
   "outputs": [],
   "source": [
    "parentfolder = 'D:\\\\Finn\\\\KPUM_NODDI\\\\DICOM_KPUM_NODDI'\n",
    "\n",
    "subject = '0YY'\n",
    "session = 'MR1'\n",
    "\n",
    "inputdicomfolder = '0YY_8453727_20230329\\\\DICOM'\n",
    "#inputdicomfolder = ['003_MR1_8213569_20210525\\\\DICOM_NODDI', \n",
    "#                '003_MR1_8213569_20210525\\\\DICOM_fromPACS']\n",
    "\n",
    "outputdicombasefolder = 'sourcedata'"
   ]
  },
  {
   "cell_type": "code",
   "execution_count": 2,
   "id": "c144c791",
   "metadata": {},
   "outputs": [],
   "source": [
    "# Define input and output parameters for dcm2niix\n",
    "import os, subprocess\n",
    "\n",
    "inputdicomdir = os.path.join(parentfolder, inputdicomfolder)\n",
    "outputdicomdir = os.path.join(parentfolder, outputdicombasefolder, f'sub-{subject}', f'ses-{session}')\n",
    "if not os.path.exists(outputdicomdir): # then make this directory\n",
    "    os.makedirs(outputdicomdir)\n",
    "\n",
    "# Now run the re-organization by running dcm2niix\n",
    "p=subprocess.Popen(f\"dcm2niix -d 8 -b o -r y -w 1 -o {outputdicomdir} -f s%2s_%d\\\\%d_%5r.dcm {inputdicomdir}\", stdout=subprocess.PIPE, shell=True)"
   ]
  },
  {
   "cell_type": "code",
   "execution_count": 3,
   "id": "7cd0f2b1",
   "metadata": {},
   "outputs": [],
   "source": [
    "# Anonymize part\n",
    "import pydicom as pm\n",
    "from glob import glob\n",
    "import os\n",
    "\n",
    "def anonymize_dicom(in_path, out_path, PatientName='Anonymous'):\n",
    "    # Anonymouses input DCM according to data_elements in list\n",
    "    \n",
    "    dicom_file = pm.dcmread(in_path)\n",
    "    \n",
    "    # DCM tags to anonymize\n",
    "    data_elements = ['PatientName',\n",
    "                     'PatientBirthDate',\n",
    "                     'PatientID']\n",
    "    for de in data_elements:\n",
    "        if de in dicom_file:\n",
    "            dicom_file.data_element(de).value = 'Anonymous'\n",
    "            \n",
    "    dicom_file.save_as(out_path)"
   ]
  },
  {
   "cell_type": "code",
   "execution_count": 6,
   "id": "e333a43e",
   "metadata": {},
   "outputs": [
    {
     "name": "stderr",
     "output_type": "stream",
     "text": [
      "c:\\Users\\finnl\\miniconda3\\envs\\kpum_noddi\\lib\\site-packages\\pydicom\\valuerep.py:290: UserWarning: Invalid value for VR DA: 'Anonymous'.\n",
      "  warnings.warn(msg)\n"
     ]
    }
   ],
   "source": [
    "in_folder=os.listdir(outputdicomdir)\n",
    "\n",
    "for folder in in_folder:\n",
    "    in_slices = glob(os.path.join(outputdicomdir, folder, '*.dcm'))\n",
    "    #print(in_slices)\n",
    "    for in_slice_ in in_slices:\n",
    "        out_slice_ = in_slice_ # write to same file = overwrite with anonymized version\n",
    "        anonymize_dicom(in_slice_, out_slice_) # write to file defined by out_slice \n"
   ]
  }
 ],
 "metadata": {
  "kernelspec": {
   "display_name": "Python 3 (ipykernel)",
   "language": "python",
   "name": "python3"
  },
  "language_info": {
   "codemirror_mode": {
    "name": "ipython",
    "version": 3
   },
   "file_extension": ".py",
   "mimetype": "text/x-python",
   "name": "python",
   "nbconvert_exporter": "python",
   "pygments_lexer": "ipython3",
   "version": "3.8.16"
  }
 },
 "nbformat": 4,
 "nbformat_minor": 5
}
