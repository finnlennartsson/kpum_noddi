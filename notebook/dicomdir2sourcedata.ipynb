{
 "cells": [
  {
   "cell_type": "code",
   "execution_count": 19,
   "metadata": {},
   "outputs": [],
   "source": [
    "###################################################################################\n",
    "# Check that these are the correct paths running (change if necessary)\n",
    "\n",
    "# Finn's Laptop\n",
    "dicombasefolder = '/mnt/d/Finn/KPUM_NODDI/DICOM_KPUM_NODDI'\n",
    "\n",
    "# KPUM Workstation\n",
    "#dicombasefolder = '/mnt/e/Finn/KPUM_NODDI/DICOM_KPUM_NODDI'\n",
    "\n",
    "# sourcedata base folder to go within dicom base folder\n",
    "sourcedatabasefolder = 'sourcedata'\n",
    "\n",
    "###################################################################################\n",
    "# User input\n",
    "\n",
    "# Participant details\n",
    "subject = '0XX'     # Subject's study ID\n",
    "session = 'MR1'     # Current scan's session ID \n",
    "\n",
    "# The DICOM folder to be processed\n",
    "dicomdatafolder = '0XX_8453727_20230329/DICOM'\n",
    "       \n",
    "###################################################################################"
   ]
  },
  {
   "cell_type": "code",
   "execution_count": 21,
   "metadata": {},
   "outputs": [
    {
     "name": "stdout",
     "output_type": "stream",
     "text": [
      "Start re-organising and anonymizing DCMs\n",
      "b\"Transferring from DoB-folder /mnt/d/Finn/KPUM_NODDI/DICOM_KPUM_NODDI/0XX_8453727_20230329/DICOM to sourcedata-folder sourcedata/sub-0XX/ses-MR1\\nsID = 0XX\\nssID = MR1\\n\\nOn Tue Apr 11 09:03:28 JST 2023,\\n\\nOrganizing DCM-input in /mnt/d/Finn/KPUM_NODDI/DICOM_KPUM_NODDI/0XX_8453727_20230329/DICOM into non-anonymized folder /mnt/d/Finn/KPUM_NODDI/DICOM_KPUM_NODDI/sourcedata/sub-0XX/ses-MR1\\nChris Rorden's dcm2niiX version v1.0.20220720  GCC10.4.0 x86-64 (64-bit Linux)\\nWarning: interpolated protocol 'SURVEY_FLASH_SAG' may be unsuitable for dwidenoise/mrdegibbs. /mnt/d/Finn/KPUM_NODDI/DICOM_KPUM_NODDI/0XX_8453727_20230329/DICOM/20230329/16530000/53350012/17381644\\nWarning: interpolated protocol 'T2W_TRA' may be unsuitable for dwidenoise/mrdegibbs. /mnt/d/Finn/KPUM_NODDI/DICOM_KPUM_NODDI/0XX_8453727_20230329/DICOM/20230329/16530000/53350012/17382313\\nWarning: interpolated protocol 'SWI_TRA' may be unsuitable for dwidenoise/mrdegibbs. /mnt/d/Finn/KPUM_NODDI/DICOM_KPUM_NODDI/0XX_8453727_20230329/DICOM/20230329/16530000/53350013/17376592\\nWarning: interpolated protocol 'SWI_TRA' may be unsuitable for dwidenoise/mrdegibbs. /mnt/d/Finn/KPUM_NODDI/DICOM_KPUM_NODDI/0XX_8453727_20230329/DICOM/20230329/16530000/53350013/17377632\\nWarning: interpolated protocol 'MPRAGE' may be unsuitable for dwidenoise/mrdegibbs. /mnt/d/Finn/KPUM_NODDI/DICOM_KPUM_NODDI/0XX_8453727_20230329/DICOM/20230329/16530000/53350013/17381031\\nWarning: interpolated protocol 'T2W_MCRIB' may be unsuitable for dwidenoise/mrdegibbs. /mnt/d/Finn/KPUM_NODDI/DICOM_KPUM_NODDI/0XX_8453727_20230329/DICOM/20230329/16530000/53350013/17382576\\nWarning: interpolated protocol 'MPRAGE' may be unsuitable for dwidenoise/mrdegibbs. /mnt/d/Finn/KPUM_NODDI/DICOM_KPUM_NODDI/0XX_8453727_20230329/DICOM/20230329/16530000/53350022/17296652\\nConverted 5174 DICOMs\\nConversion required 620.683962 seconds (72.950668 for core code).\\nAnonymizing DCMs in /mnt/d/Finn/KPUM_NODDI/DICOM_KPUM_NODDI/sourcedata/sub-0XX/ses-MR1/s01_SURVEY_H32\\nAnonymizing DCMs in /mnt/d/Finn/KPUM_NODDI/DICOM_KPUM_NODDI/sourcedata/sub-0XX/ses-MR1/s02_SURVEY_FLASH_SAG\\nAnonymizing DCMs in /mnt/d/Finn/KPUM_NODDI/DICOM_KPUM_NODDI/sourcedata/sub-0XX/ses-MR1/s03_FLAIR_TRA_FS\\nAnonymizing DCMs in /mnt/d/Finn/KPUM_NODDI/DICOM_KPUM_NODDI/sourcedata/sub-0XX/ses-MR1/s04_T2W_TRA\\nAnonymizing DCMs in /mnt/d/Finn/KPUM_NODDI/DICOM_KPUM_NODDI/sourcedata/sub-0XX/ses-MR1/s05_T2W_MCRIB\\nAnonymizing DCMs in /mnt/d/Finn/KPUM_NODDI/DICOM_KPUM_NODDI/sourcedata/sub-0XX/ses-MR1/s06_MPRAGE\\nAnonymizing DCMs in /mnt/d/Finn/KPUM_NODDI/DICOM_KPUM_NODDI/sourcedata/sub-0XX/ses-MR1/s07_T2starW_COR\\nAnonymizing DCMs in /mnt/d/Finn/KPUM_NODDI/DICOM_KPUM_NODDI/sourcedata/sub-0XX/ses-MR1/s08_mIP_Images(SW)\\nAnonymizing DCMs in /mnt/d/Finn/KPUM_NODDI/DICOM_KPUM_NODDI/sourcedata/sub-0XX/ses-MR1/s09_SWI_Images\\nAnonymizing DCMs in /mnt/d/Finn/KPUM_NODDI/DICOM_KPUM_NODDI/sourcedata/sub-0XX/ses-MR1/s100_SAG\\nAnonymizing DCMs in /mnt/d/Finn/KPUM_NODDI/DICOM_KPUM_NODDI/sourcedata/sub-0XX/ses-MR1/s101_DTI_2.5mm_iso_DFC_MIX_split_1\\nAnonymizing DCMs in /mnt/d/Finn/KPUM_NODDI/DICOM_KPUM_NODDI/sourcedata/sub-0XX/ses-MR1/s102_MPR_TRA\\nAnonymizing DCMs in /mnt/d/Finn/KPUM_NODDI/DICOM_KPUM_NODDI/sourcedata/sub-0XX/ses-MR1/s10_DTI_2.5mm_iso_DFC_MIX\\nAnonymizing DCMs in /mnt/d/Finn/KPUM_NODDI/DICOM_KPUM_NODDI/sourcedata/sub-0XX/ses-MR1/s11_DTI_2.5mm_iso_DFC_ADC\\nAnonymizing DCMs in /mnt/d/Finn/KPUM_NODDI/DICOM_KPUM_NODDI/sourcedata/sub-0XX/ses-MR1/s12_DTI_2.5mm_iso_DFC_TRACEW\\nAnonymizing DCMs in /mnt/d/Finn/KPUM_NODDI/DICOM_KPUM_NODDI/sourcedata/sub-0XX/ses-MR1/s13_DTI_2.5mm_iso_DFC_FA\\nAnonymizing DCMs in /mnt/d/Finn/KPUM_NODDI/DICOM_KPUM_NODDI/sourcedata/sub-0XX/ses-MR1/s14_DTI_2.5mm_iso_DFC_ColFA\\nAnonymizing DCMs in /mnt/d/Finn/KPUM_NODDI/DICOM_KPUM_NODDI/sourcedata/sub-0XX/ses-MR1/s15_DTI_2.5mm_iso_DFC_TENSOR\\nAnonymizing DCMs in /mnt/d/Finn/KPUM_NODDI/DICOM_KPUM_NODDI/sourcedata/sub-0XX/ses-MR1/s16_DKI_2.5mm_NODDI_dir-PA_2dir_0_DFC_MIX\\nAnonymizing DCMs in /mnt/d/Finn/KPUM_NODDI/DICOM_KPUM_NODDI/sourcedata/sub-0XX/ses-MR1/s17_DKI_2.5mm_NODDI_dir-AP_79dir_0_1000_2000_DFC_MIX\\nAnonymizing DCMs in /mnt/d/Finn/KPUM_NODDI/DICOM_KPUM_NODDI/sourcedata/sub-0XX/ses-MR1/s18_DKI_2.5mm_NODDI_dir-PA_2dir_0_DFC_MIX\\nAnonymizing DCMs in /mnt/d/Finn/KPUM_NODDI/DICOM_KPUM_NODDI/sourcedata/sub-0XX/ses-MR1/s19_MPRAGE\\nAnonymizing DCMs in /mnt/d/Finn/KPUM_NODDI/DICOM_KPUM_NODDI/sourcedata/sub-0XX/ses-MR1/s99_PhoenixZIPReport\\nAll DCMs anonymized. Final output in sourcedata/sub-0XX/ses-MR1\\n\"\n",
      "Done re-organising and anonymizing DCMs\n"
     ]
    }
   ],
   "source": [
    "import os, subprocess\n",
    "\n",
    "# Define path and create output dicomdir if not present\n",
    "outputdicomdir = os.path.join(dicombasefolder, sourcedatabasefolder, f'sub-{subject}', f'ses-{session}')\n",
    "if not os.path.exists(outputdicomdir): # then make this directory\n",
    "    os.makedirs(outputdicomdir)\n",
    "\n",
    "# Run bash-script\n",
    "print(\"Start re-organising and anonymizing DCMs\")\n",
    "result = subprocess.run(f\"bash ../shell/nifti_dicomdir2sourcedata.sh {dicombasefolder} {dicomdatafolder} {subject} {session} -sourcedata {sourcedatabasefolder}\", stdout=subprocess.PIPE, shell=True)\n",
    "#print(result.stdout)\n",
    "print(\"Done re-organising and anonymizing DCMs\")"
   ]
  }
 ],
 "metadata": {
  "kernelspec": {
   "display_name": "kpum_wsl",
   "language": "python",
   "name": "python3"
  },
  "language_info": {
   "codemirror_mode": {
    "name": "ipython",
    "version": 3
   },
   "file_extension": ".py",
   "mimetype": "text/x-python",
   "name": "python",
   "nbconvert_exporter": "python",
   "pygments_lexer": "ipython3",
   "version": "3.10.10"
  },
  "orig_nbformat": 4
 },
 "nbformat": 4,
 "nbformat_minor": 2
}
