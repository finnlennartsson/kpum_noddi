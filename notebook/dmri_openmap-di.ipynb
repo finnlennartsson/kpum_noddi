{
 "cells": [
  {
   "cell_type": "code",
   "execution_count": null,
   "metadata": {},
   "outputs": [],
   "source": [
    "import os\n",
    "\n",
    "###################################################################################\n",
    "# Check that these are the correct paths running (change if necessary)\n",
    "\n",
    "# Finn's Laptop\n",
    "studydir = '/mnt/d/KPUM_NODDI/Data'\n",
    "codedir = os.path.join(os.environ[\"HOME\"],'Code/kpum_noddi_ssd/kpum_noddi')\n",
    "\n",
    "# KPUM Workstation\n",
    "#studydir = '/mnt/e/Finn/KPUM_NODDI/Data'\n",
    "#codedir = os.path.join('/home/radio/KPUM_NODDI','code/kpum_noddi')\n",
    "\n",
    "###################################################################################\n",
    "# USER INPUT - START\n",
    "\n",
    "# Participant details\n",
    "subject = '' # e.g. 035\n",
    "session = '' # e.g. MR1\n",
    "derivatives = '' # e.g. derivatives/dMRI_np' or 'derivatives/dMRI_op'\n",
    "protocol = '' # 'NEW' or 'ORIG'\n",
    "\n",
    "# USER INPUT - END\n",
    "##################################################################################\n",
    "\n",
    "# tsv-files to keep track of in studydir/niftibasefolder\n",
    "subjecttrackerfile = 'Subject_Tracker_for_dmri_registration.tsv'"
   ]
  },
  {
   "cell_type": "code",
   "execution_count": 2,
   "metadata": {},
   "outputs": [],
   "source": [
    "import os\n",
    "\n",
    "# Define I/O folders and files\n",
    "#niftifolder = os.path.join(studydir, niftibasefolder, os.path.join(f'sub-{subject}',f'ses-{session}'))\n",
    "datadir = os.path.join(studydir, derivatives, os.path.join(f'sub-{subject}',f'ses-{session}'),'dwi')\n",
    "if not os.path.exists(datadir): # then make this directory\n",
    "    os.makedirs(datadir)\n",
    "# TSV-file subject tracker file\n",
    "subjecttrackertsv = os.path.join(studydir, derivatives, subjecttrackerfile)\n",
    "\n",
    "def perform_process(processcall) :\n",
    "    import os, subprocess\n",
    "    # Perform the process given by the processcall by launching into terminal\n",
    "    p=subprocess.Popen(processcall, stdout=subprocess.PIPE, shell=True)\n",
    "    # Poll process.stdout to show stdout live\n",
    "    while True:\n",
    "        output = p.stdout.readline()\n",
    "        if p.poll() is not None:\n",
    "            break\n",
    "        if output:\n",
    "            print(output.strip().decode(\"utf-8\"))\n",
    "    rc = p.poll()\n",
    "\n",
    "\n",
    "########################################\n",
    "## START\n",
    "\n",
    "import os \n",
    "import pandas as pd\n",
    "\n",
    "currdir = os.getcwd()\n",
    "os.chdir(studydir)\n"
   ]
  },
  {
   "cell_type": "code",
   "execution_count": null,
   "metadata": {},
   "outputs": [],
   "source": [
    "\n",
    "## Process to perform - dmri_registration\n",
    "process = 'dmri_openmap-di'\n",
    "processfile = 'dmri_openmap-di.sh'\n",
    "processfilepath = os.path.join(codedir,'shell', processfile)\n",
    "processcall = f\"bash {processfilepath} {subject} {session} {studydir} -d {datadir}\"\n",
    "perform_process(processcall)\n",
    "\n",
    "os.chdir(currdir)"
   ]
  }
 ],
 "metadata": {
  "kernelspec": {
   "display_name": "kpum_wsl",
   "language": "python",
   "name": "python3"
  },
  "language_info": {
   "codemirror_mode": {
    "name": "ipython",
    "version": 3
   },
   "file_extension": ".py",
   "mimetype": "text/x-python",
   "name": "python",
   "nbconvert_exporter": "python",
   "pygments_lexer": "ipython3",
   "version": "3.10.13"
  }
 },
 "nbformat": 4,
 "nbformat_minor": 2
}
