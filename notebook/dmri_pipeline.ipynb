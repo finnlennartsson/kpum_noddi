{
 "cells": [
  {
   "cell_type": "code",
   "execution_count": 16,
   "metadata": {},
   "outputs": [],
   "source": [
    "import os\n",
    "\n",
    "# Check these before running\n",
    "\n",
    "# KPUM Workstation\n",
    "studydir = '/mnt/e/Research/Projects/KPUM_NODDI/Data'\n",
    "niftibasefolder = 'nifti' # nifti basefolder to go within studydir\n",
    "codedir = os.path.join('/home/radio/KPUM_NODDI','code/kpum_noddi')\n",
    "datadirbasefolder = 'derivatives/dMRI_OrigProtocol'\n",
    "protocol = 'ORIG' # 'NEW'\n",
    "dPar = 1.7e-3\n",
    "\n",
    "\n",
    "# Finn's Laptop\n",
    "studydir = '/mnt/s/Research/Projects/KPUM_NODDI/Data'\n",
    "niftibasefolder = 'nifti' # nifti basefolder to go within studydir\n",
    "codedir = os.path.join(studydir,'code/kpum_noddi')\n",
    "datadirbasefolder = 'derivatives/dMRI_np'\n",
    "protocol = 'NEW' # 'NEW'\n",
    "datadirbasefolder = 'derivatives/dMRI_Testing7_dmri_pipeline'\n",
    "protocol = 'ORIG' # 'NEW'\n",
    "dPar = 1.8e-3 # value to use in NODDI estimation\n",
    "\n",
    "# tsv-files to keep track of in studydir/niftibasefolder\n",
    "subjecttrackerpath = os.path.join(studydir, datadirbasefolder)\n",
    "subjecttrackerfile = 'Subject_Tracker_for_dmri_pipeline.tsv'\n",
    "\n",
    "###################################################################################\n",
    "# USER INPUT\n",
    "\n",
    "# Participant details\n",
    "subject = '035'\n",
    "session = 'MR1'"
   ]
  },
  {
   "cell_type": "code",
   "execution_count": 17,
   "metadata": {},
   "outputs": [],
   "source": [
    "import os\n",
    "\n",
    "# Define I/O folders and files\n",
    "niftifolder = os.path.join(studydir, niftibasefolder, os.path.join(f'sub-{subject}',f'ses-{session}'))\n",
    "datadir = os.path.join(studydir, datadirbasefolder,  os.path.join(f'sub-{subject}',f'ses-{session}'))\n",
    "if not os.path.exists(datadir): # then make this directory\n",
    "    os.makedirs(datadir)\n",
    "subjecttrackertsv = os.path.join(subjecttrackerpath, subjecttrackerfile)\n",
    "\n",
    "def perform_process(processcall) :\n",
    "    import os, subprocess\n",
    "    # Perform the process given by the processcall by launching into terminal\n",
    "    p=subprocess.Popen(processcall, stdout=subprocess.PIPE, shell=True)\n",
    "    # Poll process.stdout to show stdout live\n",
    "    while True:\n",
    "        output = p.stdout.readline()\n",
    "        if p.poll() is not None:\n",
    "            break\n",
    "        if output:\n",
    "            print(output.strip().decode(\"utf-8\"))\n",
    "    rc = p.poll()"
   ]
  },
  {
   "cell_type": "code",
   "execution_count": null,
   "metadata": {},
   "outputs": [],
   "source": [
    "########################################\n",
    "## START\n",
    "\n",
    "import os \n",
    "import pandas as pd\n",
    "\n",
    "currdir = os.getcwd()\n",
    "os.chdir(studydir)\n",
    "\n",
    "## Process to perform - dmri_pipeline\n",
    "process = 'dmri_pipeline'\n",
    "processfile = 'dmri_pipeline.sh'\n",
    "processfilepath = os.path.join(codedir,'shell', processfile)\n",
    "processcall = f\"bash {processfilepath} {subject} {session} -d {datadirbasefolder} -dPar {dPar}\"\n",
    "perform_process(processcall)\n",
    "\n",
    "os.chdir(currdir)\n"
   ]
  }
 ],
 "metadata": {
  "kernelspec": {
   "display_name": "kpum_wsl",
   "language": "python",
   "name": "python3"
  },
  "language_info": {
   "codemirror_mode": {
    "name": "ipython",
    "version": 3
   },
   "file_extension": ".py",
   "mimetype": "text/x-python",
   "name": "python",
   "nbconvert_exporter": "python",
   "pygments_lexer": "ipython3",
   "version": "3.10.10"
  },
  "orig_nbformat": 4
 },
 "nbformat": 4,
 "nbformat_minor": 2
}
