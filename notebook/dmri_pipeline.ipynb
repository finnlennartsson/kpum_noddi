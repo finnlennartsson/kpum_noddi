{
 "cells": [
  {
   "cell_type": "code",
   "execution_count": 33,
   "metadata": {},
   "outputs": [],
   "source": [
    "import os\n",
    "\n",
    "# Check these before running\n",
    "\n",
    "# Finn's Laptop\n",
    "studydir = '/mnt/s/Research/Projects/KPUM_NODDI/Data'\n",
    "niftibasefolder = 'nifti' # nifti basefolder to go within studydir\n",
    "codedir = os.path.join(studydir,'code/kpum_noddi')\n",
    "datadirbasefolder = 'derivatives/dMRI_OrigProtocol'\n",
    "protocol = 'ORIG' # 'NEW'\n",
    "\n",
    "# KPUM Workstation\n",
    "#studydir = '/mnt/e/Research/Projects/KPUM_NODDI/Data'\n",
    "#niftibasefolder = 'nifti' # nifti basefolder to go within studydir\n",
    "#codedir = os.path.join('/home/radio/KPUM_NODDI','code/kpum_noddi')\n",
    "#datadirbasefolder = 'derivatives/dMRI_OrigProtocol'\n",
    "#protocol = 'ORIG' # 'NEW'\n",
    "\n",
    "# tsv-files to keep track of in studydir/niftibasefolder\n",
    "subjecttrackerpath = os.path.join(studydir, datadirbasefolder)\n",
    "subjecttrackerfile = 'Subject_Tracker_for_dmri_pipeline.tsv'\n",
    "\n",
    "###################################################################################\n",
    "# USER INPUT\n",
    "\n",
    "# Participant details\n",
    "subject = '023'\n",
    "session = 'MR1'"
   ]
  },
  {
   "cell_type": "code",
   "execution_count": 34,
   "metadata": {},
   "outputs": [],
   "source": [
    "import os\n",
    "\n",
    "# Define I/O folders and files\n",
    "niftifolder = os.path.join(studydir, niftibasefolder, os.path.join(f'sub-{subject}',f'ses-{session}'))\n",
    "datadir = os.path.join(studydir, datadirbasefolder,  os.path.join(f'sub-{subject}',f'ses-{session}'))\n",
    "if not os.path.exists(datadir): # then make this directory\n",
    "    os.makedirs(datadir)\n",
    "subjecttrackertsv = os.path.join(subjecttrackerpath, subjecttrackerfile)\n"
   ]
  },
  {
   "cell_type": "code",
   "execution_count": 35,
   "metadata": {},
   "outputs": [
    {
     "name": "stdout",
     "output_type": "stream",
     "text": [
      "Process to perform dmri_prepare_pipeline\n",
      "Status for dmri_prepare_pipeline is set to Pending = need to do this step\n",
      "Preparing for dMRI pipeline\n",
      "Subject:           023\n",
      "Session:           MR1\n",
      "Session file:      nifti/sub-023/ses-MR1/session_QC.tsv\n",
      "Data directory:    /mnt/s/Research/Projects/KPUM_NODDI/Data/derivatives/dMRI_OrigProtocol/sub-023/ses-MR1\n",
      "\n",
      "/mnt/s/Research/Projects/KPUM_NODDI/Data/code/kpum_noddi/shell/dmri_prepare_pipeline.sh       023 MR1 -d /mnt/s/Research/Projects/KPUM_NODDI/Data/derivatives/dMRI_OrigProtocol/sub-023/ses-MR1\n",
      "----------------------------\n",
      "dMRI preprocessing on subject 023 and session MR1\n",
      "\n",
      "Transfer data in nifti/sub-023/ses-MR1/session_QC.tsv which has qc_pass_fail = 1 or 0.5\n",
      "Status for dmri_prepare_pipeline is set to Done\n",
      "\n",
      "Process to perform dmri_preprocess\n",
      "Status for dmri_preprocess is set to Pending = need to do this step\n",
      "dMRI preprocessing\n",
      "Subject:       \t023\n",
      "Session:        MR1\n",
      "Session file:\t/mnt/s/Research/Projects/KPUM_NODDI/Data/derivatives/dMRI_OrigProtocol/sub-023/ses-MR1/session_QC.tsv\n",
      "DWI (AP):\n",
      "MRI Protocol:\tORIG\n",
      "Threads:\t4\n",
      "DataDirectory:\t/mnt/s/Research/Projects/KPUM_NODDI/Data/derivatives/dMRI_OrigProtocol/sub-023/ses-MR1\n",
      "\n",
      "/mnt/s/Research/Projects/KPUM_NODDI/Data/code/kpum_noddi/shell/dmri_preprocess.sh   \t023 MR1 -d /mnt/s/Research/Projects/KPUM_NODDI/Data/derivatives/dMRI_OrigProtocol/sub-023/ses-MR1 -protocol ORIG -s /mnt/s/Research/Projects/KPUM_NODDI/Data/derivatives/dMRI_OrigProtocol/sub-023/ses-MR1/session_QC.tsv -threads 4\n",
      "----------------------------\n",
      "dMRI preprocessing on subject 023 and session MR1\n",
      "\n",
      "Reading /mnt/s/Research/Projects/KPUM_NODDI/Data/derivatives/dMRI_OrigProtocol/sub-023/ses-MR1/session_QC.tsv and use entries to create relevant files\n",
      "We have ORIG protocol\n"
     ]
    },
    {
     "name": "stderr",
     "output_type": "stream",
     "text": [
      "mrconvert: [100%] copying from \"/mnt/s/Res...-023_ses-MR1_dir-AP_dwi.nii\" to \"/mnt/s/Res...1/dwi/preproc/tmp_dwiAP.mif\"\u001b[0K[0K\u001b[?7h\u001b[?7l\u001b[?7l\u001b[?7l\u001b[?7l\n",
      "dwiextract: [100%] extracting volumes\u001b[0K[0K\u001b[?7h\u001b[?7l\u001b[?7l\u001b[?7l\u001b[?7l\u001b[?7l\u001b[?7l\u001b[?7l\n",
      "dwiextract: [100%] extracting volumes\u001b[0K[0K\u001b[?7h\u001b[?7l\n",
      "mrconvert: [100%] copying from \"/tmp/mrtrix-tmp-GaaskD.mif\" to \"/mnt/s/Res...wi/preproc/tmp_dwiAP_b0.mif\"\u001b[0K[0K\u001b[?7h\u001b[?7l\n",
      "mrcat: [100%] concatenating \"/mnt/s/Research/Projects/KPUM_NODDI/Data/derivatives/dMRI_OrigProtocol/sub-023/ses-MR1/dwi/preproc/tmp_dwiAP_b0.mif\"\u001b[0K[0K\u001b[?7h\u001b[?7l\u001b[?7l\n",
      "mrcat: [100%] concatenating \"/mnt/s/Research/Projects/KPUM_NODDI/Data/derivatives/dMRI_OrigProtocol/sub-023/ses-MR1/dwi/preproc/tmp_dwiAP_b1000b2000.mif\"\u001b[0K[0K\u001b[?7h\u001b[?7l\u001b[?7l\u001b[?7l\u001b[?7l\u001b[?7l\u001b[?7l\u001b[?7l\n",
      "mrconvert: [100%] copying from \"/mnt/s/Res...-023_ses-MR1_dir-AP_dwi.nii\" to \"/tmp/mrtrix-tmp-rWt14e.mif\"\u001b[0K[0K\u001b[?7h\u001b[?7l\u001b[?7l\u001b[?7l\n",
      "mrconvert: [100%] copying from \"/tmp/mrtrix-tmp-rWt14e.mif\" to \"/mnt/s/Res.../dwi/preproc/topup/b0AP.mif\"\u001b[0K[0K\u001b[?7h\u001b[?7l\n"
     ]
    },
    {
     "name": "stdout",
     "output_type": "stream",
     "text": [
      "We only have b0AP.mif in /topup => do not have a fieldmap, so eddy will be run without a TOPUP fieldmap\n"
     ]
    },
    {
     "name": "stderr",
     "output_type": "stream",
     "text": [
      "mrconvert: [100%] copying from \"dwiAP.mif\" to \"dwi.mif\"\u001b[0K[0K\u001b[?7h\u001b[?7l\u001b[?7l\u001b[?7l\u001b[?7l\u001b[?7l\u001b[?7l\u001b[?7l\u001b[?7l\n"
     ]
    },
    {
     "name": "stdout",
     "output_type": "stream",
     "text": [
      "Doing MP PCA-denosing with dwidenoise\n"
     ]
    },
    {
     "name": "stderr",
     "output_type": "stream",
     "text": [
      "dwidenoise: [100%] preloading data for \"dwi.mif\"\u001b[0K[0K\u001b[?7h\u001b[?7l\u001b[?7l\u001b[?7l\u001b[?7l\u001b[?7l\u001b[?7l\u001b[?7l\u001b[?7l\n",
      "dwidenoise: [100%] running MP-PCA denoising\u001b[0K[0K\u001b[?7h\u001b[?7l\u001b[?7l\u001b[?7l\u001b[?7l\u001b[?7l\u001b[?7l\u001b[?7l\u001b[?7l\u001b[?7l\u001b[?7l\u001b[?7l\u001b[?7l\u001b[?7l\u001b[?7l\u001b[?7l\u001b[?7l\u001b[?7l\u001b[?7l\u001b[?7l\u001b[?7l\u001b[?7l\u001b[?7l\u001b[?7l\u001b[?7l\u001b[?7l\u001b[?7l\u001b[?7l\u001b[?7l\u001b[?7l\u001b[?7l\u001b[?7l\u001b[?7l\u001b[?7l\u001b[?7l\u001b[?7l\u001b[?7l\u001b[?7l\u001b[?7l\u001b[?7l\u001b[?7l\u001b[?7l\u001b[?7l\u001b[?7l\u001b[?7l\u001b[?7l\u001b[?7l\u001b[?7l\u001b[?7l\u001b[?7l\u001b[?7l\u001b[?7l\u001b[?7l\u001b[?7l\u001b[?7l\u001b[?7l\u001b[?7l\u001b[?7l\u001b[?7l\u001b[?7l\u001b[?7l\u001b[?7l\u001b[?7l\u001b[?7l\u001b[?7l\u001b[?7l\u001b[?7l\u001b[?7l\u001b[?7l\u001b[?7l\u001b[?7l\u001b[?7l\u001b[?7l\u001b[?7l\u001b[?7l\u001b[?7l\u001b[?7l\u001b[?7l\u001b[?7l\u001b[?7l\u001b[?7l\u001b[?7l\u001b[?7l\u001b[?7l\u001b[?7l\u001b[?7l\u001b[?7l\u001b[?7l\u001b[?7l\u001b[?7l\u001b[?7l\u001b[?7l\u001b[?7l\u001b[?7l\u001b[?7l\u001b[?7l\u001b[?7l\u001b[?7l\u001b[?7l\u001b[?7l\u001b[?7l\n",
      "mrcalc: [100%] computing: (dwi.mif - dwi_den.mif)\u001b[0K[0K\u001b[?7h\u001b[?7l\u001b[?7l\u001b[?7l\u001b[?7l\u001b[?7l\u001b[?7l\u001b[?7l\u001b[?7l\u001b[?7l\u001b[?7l\u001b[?7l\u001b[?7l\n"
     ]
    },
    {
     "name": "stdout",
     "output_type": "stream",
     "text": [
      "Check the residuals! Should not contain anatomical structure\n",
      "Remove Gibbs Ringing Artifacts with mrdegibbs\n"
     ]
    },
    {
     "name": "stderr",
     "output_type": "stream",
     "text": [
      "mrdegibbs: [100%] performing Gibbs ringing removal\u001b[0K[0K\u001b[?7h\u001b[?7l\u001b[?7l\u001b[?7l\u001b[?7l\u001b[?7l\u001b[?7l\u001b[?7l\u001b[?7l\u001b[?7l\u001b[?7l\u001b[?7l\u001b[?7l\u001b[?7l\u001b[?7l\u001b[?7l\u001b[?7l\u001b[?7l\u001b[?7l\u001b[?7l\u001b[?7l\u001b[?7l\u001b[?7l\u001b[?7l\u001b[?7l\u001b[?7l\u001b[?7l\u001b[?7l\u001b[?7l\u001b[?7l\u001b[?7l\u001b[?7l\u001b[?7l\u001b[?7l\u001b[?7l\n",
      "mrcalc: [100%] computing: (dwi_den.mif - dwi_den_unr.mif)\u001b[0K[0K\u001b[?7h\u001b[?7l\u001b[?7l\u001b[?7l\u001b[?7l\u001b[?7l\u001b[?7l\u001b[?7l\u001b[?7l\u001b[?7l\u001b[?7l\u001b[?7l\u001b[?7l\n"
     ]
    },
    {
     "name": "stdout",
     "output_type": "stream",
     "text": [
      "Check the residuals! Should not contain anatomical structure\n"
     ]
    },
    {
     "name": "stderr",
     "output_type": "stream",
     "text": [
      "dwifslpreproc: \n",
      "dwifslpreproc: Note that this script makes use of commands / algorithms that have relevant articles for citation; INCLUDING FROM EXTERNAL SOFTWARE PACKAGES. Please consult the help page (-help option) for more information.\n",
      "dwifslpreproc: \n",
      "dwifslpreproc: Generated scratch directory: /mnt/s/Research/Projects/KPUM_NODDI/Data/derivatives/dMRI_OrigProtocol/sub-023/ses-MR1/dwi/preproc/dwifslpreproc\n",
      "Command:  mrconvert /mnt/s/Research/Projects/KPUM_NODDI/Data/derivatives/dMRI_OrigProtocol/sub-023/ses-MR1/dwi/preproc/dwi_den_unr.mif /mnt/s/Research/Projects/KPUM_NODDI/Data/derivatives/dMRI_OrigProtocol/sub-023/ses-MR1/dwi/preproc/dwifslpreproc/dwi.mif -json_export /mnt/s/Research/Projects/KPUM_NODDI/Data/derivatives/dMRI_OrigProtocol/sub-023/ses-MR1/dwi/preproc/dwifslpreproc/dwi.json\n",
      "dwifslpreproc: Changing to scratch directory (/mnt/s/Research/Projects/KPUM_NODDI/Data/derivatives/dMRI_OrigProtocol/sub-023/ses-MR1/dwi/preproc/dwifslpreproc)\n",
      "dwifslpreproc: No slice encoding direction information present; assuming third axis corresponds to slices\n",
      "Command:  mrinfo dwi.mif -export_grad_mrtrix grad.b\n",
      "Command:  dwi2mask dwi.mif - | maskfilter - dilate - | mrconvert - eddy_mask.nii -datatype float32 -strides -1,+2,+3\n",
      "Command:  mrconvert dwi.mif eddy_in.nii -strides -1,+2,+3,+4 -export_grad_fsl bvecs bvals -export_pe_eddy eddy_config.txt eddy_indices.txt\n",
      "Command:  eddy_cuda10.2 --imain=eddy_in.nii --mask=eddy_mask.nii --acqp=eddy_config.txt --index=eddy_indices.txt --bvecs=bvecs --bvals=bvals --slm=linear --repol --mporder=8 --s2v_niter=10 --s2v_interp=trilinear --s2v_lambda=1 --mbs_niter=20 --mbs_ksp=10 --mbs_lambda=10 --slspec=slspec.txt --out=dwi_post_eddy --verbose\n",
      "Command:  eddy_quad dwi_post_eddy -idx eddy_indices.txt -par eddy_config.txt -b bvals -m eddy_mask.nii -s slspec.txt\n",
      "dwifslpreproc: [WARNING] Error running automated EddyQC tool 'eddy_quad'; QC data written to \"/mnt/s/Research/Projects/KPUM_NODDI/Data/derivatives/dMRI_OrigProtocol/sub-023/ses-MR1/dwi/preproc/eddy\" will be files from \"eddy\" only\n",
      "Command:  mrconvert dwi_post_eddy.nii result.mif -strides -1,3,4,2 -fslgrad dwi_post_eddy.eddy_rotated_bvecs bvals\n",
      "Function: os.makedirs('/mnt/s/Research/Projects/KPUM_NODDI/Data/derivatives/dMRI_OrigProtocol/sub-023/ses-MR1/dwi/preproc/eddy')\n",
      "Function: shutil.copy('dwi_post_eddy.eddy_parameters', '/mnt/s/Research/Projects/KPUM_NODDI/Data/derivatives/dMRI_OrigProtocol/sub-023/ses-MR1/dwi/preproc/eddy/eddy_parameters')\n",
      "Function: shutil.copy('dwi_post_eddy.eddy_movement_rms', '/mnt/s/Research/Projects/KPUM_NODDI/Data/derivatives/dMRI_OrigProtocol/sub-023/ses-MR1/dwi/preproc/eddy/eddy_movement_rms')\n",
      "Function: shutil.copy('dwi_post_eddy.eddy_restricted_movement_rms', '/mnt/s/Research/Projects/KPUM_NODDI/Data/derivatives/dMRI_OrigProtocol/sub-023/ses-MR1/dwi/preproc/eddy/eddy_restricted_movement_rms')\n",
      "Function: shutil.copy('dwi_post_eddy.eddy_post_eddy_shell_alignment_parameters', '/mnt/s/Research/Projects/KPUM_NODDI/Data/derivatives/dMRI_OrigProtocol/sub-023/ses-MR1/dwi/preproc/eddy/eddy_post_eddy_shell_alignment_parameters')\n",
      "Function: shutil.copy('dwi_post_eddy.eddy_post_eddy_shell_PE_translation_parameters', '/mnt/s/Research/Projects/KPUM_NODDI/Data/derivatives/dMRI_OrigProtocol/sub-023/ses-MR1/dwi/preproc/eddy/eddy_post_eddy_shell_PE_translation_parameters')\n",
      "Function: shutil.copy('dwi_post_eddy.eddy_outlier_report', '/mnt/s/Research/Projects/KPUM_NODDI/Data/derivatives/dMRI_OrigProtocol/sub-023/ses-MR1/dwi/preproc/eddy/eddy_outlier_report')\n",
      "Function: shutil.copy('dwi_post_eddy.eddy_outlier_map', '/mnt/s/Research/Projects/KPUM_NODDI/Data/derivatives/dMRI_OrigProtocol/sub-023/ses-MR1/dwi/preproc/eddy/eddy_outlier_map')\n",
      "Function: shutil.copy('dwi_post_eddy.eddy_outlier_n_stdev_map', '/mnt/s/Research/Projects/KPUM_NODDI/Data/derivatives/dMRI_OrigProtocol/sub-023/ses-MR1/dwi/preproc/eddy/eddy_outlier_n_stdev_map')\n",
      "Function: shutil.copy('dwi_post_eddy.eddy_outlier_n_sqr_stdev_map', '/mnt/s/Research/Projects/KPUM_NODDI/Data/derivatives/dMRI_OrigProtocol/sub-023/ses-MR1/dwi/preproc/eddy/eddy_outlier_n_sqr_stdev_map')\n",
      "Function: shutil.copy('dwi_post_eddy.eddy_movement_over_time', '/mnt/s/Research/Projects/KPUM_NODDI/Data/derivatives/dMRI_OrigProtocol/sub-023/ses-MR1/dwi/preproc/eddy/eddy_movement_over_time')\n",
      "Function: shutil.copy('eddy_mask.nii', '/mnt/s/Research/Projects/KPUM_NODDI/Data/derivatives/dMRI_OrigProtocol/sub-023/ses-MR1/dwi/preproc/eddy/eddy_mask.nii')\n",
      "Command:  mrconvert result.mif /mnt/s/Research/Projects/KPUM_NODDI/Data/derivatives/dMRI_OrigProtocol/sub-023/ses-MR1/dwi/preproc/dwi_den_unr_eddy.mif\n",
      "dwifslpreproc: Changing back to original directory (/mnt/s/Research/Projects/KPUM_NODDI/Data/derivatives/dMRI_OrigProtocol/sub-023/ses-MR1/dwi/preproc)\n",
      "dwifslpreproc: Scratch directory retained; location: /mnt/s/Research/Projects/KPUM_NODDI/Data/derivatives/dMRI_OrigProtocol/sub-023/ses-MR1/dwi/preproc/dwifslpreproc\n",
      "cp: cannot stat 'dwifslpreproc/applytopup_*.txt': No such file or directory\n",
      "mv: cannot stat 'dwifslpreproc/field_*': No such file or directory\n",
      "mv: cannot stat 'dwifslpreproc/topup_*': No such file or directory\n"
     ]
    },
    {
     "name": "stdout",
     "output_type": "stream",
     "text": [
      "Pre-processing with mask generation N4 biasfield correction\n"
     ]
    },
    {
     "name": "stderr",
     "output_type": "stream",
     "text": [
      "mrmath: \u001b[00;31m[WARNING] existing output files will be overwritten\u001b[0m\n",
      "dwiextract: [100%] extracting volumes\u001b[0K[0K\u001b[?7h\u001b[?7l\u001b[?7l\u001b[?7l\u001b[?7l\u001b[?7l\n",
      "mrmath: [100%] preloading data for \"/tmp/mrtrix-tmp-IxS4Ht.mif\"\u001b[0K[0K\u001b[?7h\u001b[?7l\n",
      "mrmath: [100%] computing mean along axis 3...\u001b[0K[0K\u001b[?7h\u001b[?7l\u001b[?7l\n",
      "mrconvert: [100%] copying from \"meanb0tmp_brain_mask.nii\" to \"mask.mif\"\u001b[0K[0K\u001b[?7h\u001b[?7l\n",
      "dwibiascorrect: \n",
      "dwibiascorrect: Note that this script makes use of commands / algorithms that have relevant articles for citation; INCLUDING FROM EXTERNAL SOFTWARE PACKAGES. Please consult the help page (-help option) for more information.\n",
      "dwibiascorrect: \n",
      "dwibiascorrect: Generated scratch directory: /mnt/s/Research/Projects/KPUM_NODDI/Data/derivatives/dMRI_OrigProtocol/sub-023/ses-MR1/dwi/preproc/dwibiascorrect-tmp-5XF3NL/\n",
      "Command:  mrconvert /mnt/s/Research/Projects/KPUM_NODDI/Data/derivatives/dMRI_OrigProtocol/sub-023/ses-MR1/dwi/preproc/dwi_den_unr_eddy.mif /mnt/s/Research/Projects/KPUM_NODDI/Data/derivatives/dMRI_OrigProtocol/sub-023/ses-MR1/dwi/preproc/dwibiascorrect-tmp-5XF3NL/in.mif\n",
      "Command:  mrconvert /mnt/s/Research/Projects/KPUM_NODDI/Data/derivatives/dMRI_OrigProtocol/sub-023/ses-MR1/dwi/preproc/mask.mif /mnt/s/Research/Projects/KPUM_NODDI/Data/derivatives/dMRI_OrigProtocol/sub-023/ses-MR1/dwi/preproc/dwibiascorrect-tmp-5XF3NL/mask.mif -datatype bit\n",
      "dwibiascorrect: Changing to scratch directory (/mnt/s/Research/Projects/KPUM_NODDI/Data/derivatives/dMRI_OrigProtocol/sub-023/ses-MR1/dwi/preproc/dwibiascorrect-tmp-5XF3NL/)\n",
      "Command:  dwiextract in.mif - -bzero | mrmath - mean mean_bzero.mif -axis 3\n",
      "Command:  mrconvert mean_bzero.mif mean_bzero.nii -strides +1,+2,+3\n",
      "Command:  mrconvert mask.mif mask.nii -strides +1,+2,+3\n",
      "Command:  N4BiasFieldCorrection -d 3 -i mean_bzero.nii -w mask.nii -o [corrected.nii,init_bias.nii] -s 4 -b [100,3] -c [1000,0.0]\n",
      "Command:  mrcalc mean_bzero.mif mask.mif -mult - | mrmath - sum - -axis 0 | mrmath - sum - -axis 1 | mrmath - sum - -axis 2 | mrdump -\n",
      "Command:  mrcalc corrected.nii mask.mif -mult - | mrmath - sum - -axis 0 | mrmath - sum - -axis 1 | mrmath - sum - -axis 2 | mrdump -\n",
      "Command:  mrcalc init_bias.nii 3.9497773897231263 -mult bias.mif\n",
      "Command:  mrcalc in.mif bias.mif -div result.mif\n",
      "Command:  mrconvert result.mif /mnt/s/Research/Projects/KPUM_NODDI/Data/derivatives/dMRI_OrigProtocol/sub-023/ses-MR1/dwi/preproc/dwi_den_unr_eddy_N4.mif\n",
      "Command:  mrconvert bias.mif /mnt/s/Research/Projects/KPUM_NODDI/Data/derivatives/dMRI_OrigProtocol/sub-023/ses-MR1/dwi/preproc/N4/bias.mif\n",
      "dwibiascorrect: Changing back to original directory (/mnt/s/Research/Projects/KPUM_NODDI/Data/derivatives/dMRI_OrigProtocol/sub-023/ses-MR1/dwi/preproc)\n",
      "dwibiascorrect: Deleting scratch directory (/mnt/s/Research/Projects/KPUM_NODDI/Data/derivatives/dMRI_OrigProtocol/sub-023/ses-MR1/dwi/preproc/dwibiascorrect-tmp-5XF3NL/)\n"
     ]
    },
    {
     "name": "stdout",
     "output_type": "stream",
     "text": [
      "Performing b0-normalisation and meanb0, meanb1000 and meanb2000 generation\n"
     ]
    },
    {
     "name": "stderr",
     "output_type": "stream",
     "text": [
      "mrconvert: [100%] copying from \"preproc/dwi_den_unr_eddy_N4.mif\" to \"sub-023_ses-MR1_desc-preproc_dwi.mif\"\u001b[0K[0K\u001b[?7h\u001b[?7l\u001b[?7l\u001b[?7l\u001b[?7l\u001b[?7l\u001b[?7l\u001b[?7l\u001b[?7l\n",
      "mrconvert: [100%] copying from \"preproc/mask.mif\" to \"sub-023_ses-MR1_space-dwi_mask.mif\"\u001b[0K[0K\u001b[?7h\u001b[?7l\n",
      "Command:  dwiextract /mnt/s/Research/Projects/KPUM_NODDI/Data/derivatives/dMRI_OrigProtocol/sub-023/ses-MR1/dwi/sub-023_ses-MR1_desc-preproc_dwi.mif -bzero - | mrmath - mean - -axis 3 | mrstats - -mask /mnt/s/Research/Projects/KPUM_NODDI/Data/derivatives/dMRI_OrigProtocol/sub-023/ses-MR1/dwi/sub-023_ses-MR1_space-dwi_mask.mif -output median\n",
      "Command:  mrcalc /mnt/s/Research/Projects/KPUM_NODDI/Data/derivatives/dMRI_OrigProtocol/sub-023/ses-MR1/dwi/sub-023_ses-MR1_desc-preproc_dwi.mif 5.702988452634605 -mult - | mrconvert - /mnt/s/Research/Projects/KPUM_NODDI/Data/derivatives/dMRI_OrigProtocol/sub-023/ses-MR1/dwi/sub-023_ses-MR1_desc-preproc-inorm_dwi.mif\n",
      "mrmath: \u001b[00;31m[WARNING] existing output files will be overwritten\u001b[0m\n",
      "dwiextract: [100%] extracting volumes\u001b[0K[0K\u001b[?7h\u001b[?7l\u001b[?7l\u001b[?7l\u001b[?7l\u001b[?7l\n",
      "mrmath: [100%] preloading data for \"/tmp/mrtrix-tmp-m6Escs.mif\"\u001b[0K[0K\u001b[?7h\u001b[?7l\n",
      "mrmath: [100%] computing mean along axis 3...\u001b[0K[0K\u001b[?7h\u001b[?7l\u001b[?7l\n",
      "mrcalc: \u001b[00;31m[WARNING] existing output files will be overwritten\u001b[0m\n",
      "mrcalc: [100%] computing: (sub-023_ses-MR1_desc-preproc-inorm_meanb0.mif * sub-023_ses-MR1_space-dwi_mask.mif)\u001b[0K[0K\u001b[?7h\u001b[?7l\n"
     ]
    },
    {
     "name": "stdout",
     "output_type": "stream",
     "text": [
      "Visually check the sub-023_ses-MR1_desc-preproc-inorm-brain_meanb0.mif\n",
      "mrview sub-023_ses-MR1_desc-preproc-inorm-brain_meanb0.mif -mode 2\n"
     ]
    },
    {
     "name": "stderr",
     "output_type": "stream",
     "text": [
      "mrmath: \u001b[00;31m[WARNING] existing output files will be overwritten\u001b[0m\n",
      "dwiextract: [100%] extracting volumes\u001b[0K[0K\u001b[?7h\u001b[?7l\u001b[?7l\u001b[?7l\u001b[?7l\u001b[?7l\u001b[?7l\n",
      "mrmath: [100%] preloading data for \"/tmp/mrtrix-tmp-ELmgC6.mif\"\u001b[0K[0K\u001b[?7h\u001b[?7l\u001b[?7l\n",
      "mrmath: [100%] computing mean along axis 3...\u001b[0K[0K\u001b[?7h\u001b[?7l\n",
      "mrcalc: \u001b[00;31m[WARNING] existing output files will be overwritten\u001b[0m\n",
      "mrcalc: [100%] computing: (sub-023_ses-MR1_desc-preproc-inorm_meanb1000.mif * sub-023_ses-MR1_space-dwi_mask.mif)\u001b[0K[0K\u001b[?7h\u001b[?7l\n"
     ]
    },
    {
     "name": "stdout",
     "output_type": "stream",
     "text": [
      "Visually check the sub-023_ses-MR1_desc-preproc-inorm-brain_meanb1000.mif\n",
      "mrview sub-023_ses-MR1_desc-preproc-inorm-brain_meanb1000.mif -mode 2\n"
     ]
    },
    {
     "name": "stderr",
     "output_type": "stream",
     "text": [
      "mrmath: \u001b[00;31m[WARNING] existing output files will be overwritten\u001b[0m\n",
      "dwiextract: [100%] extracting volumes\u001b[0K[0K\u001b[?7h\u001b[?7l\u001b[?7l\u001b[?7l\u001b[?7l\u001b[?7l\u001b[?7l\n",
      "mrmath: [100%] preloading data for \"/tmp/mrtrix-tmp-uaDsOA.mif\"\u001b[0K[0K\u001b[?7h\u001b[?7l\u001b[?7l\n",
      "mrmath: [100%] computing mean along axis 3...\u001b[0K[0K\u001b[?7h\u001b[?7l\u001b[?7l\n",
      "mrcalc: \u001b[00;31m[WARNING] existing output files will be overwritten\u001b[0m\n",
      "mrcalc: [100%] computing: (sub-023_ses-MR1_desc-preproc-inorm_meanb2000.mif * sub-023_ses-MR1_space-dwi_mask.mif)\u001b[0K[0K\u001b[?7h\u001b[?7l\n"
     ]
    },
    {
     "name": "stdout",
     "output_type": "stream",
     "text": [
      "Visually check the sub-023_ses-MR1_desc-preproc-inorm-brain_meanb2000.mif\n",
      "mrview sub-023_ses-MR1_desc-preproc-inorm-brain_meanb2000.mif -mode 2\n"
     ]
    },
    {
     "name": "stderr",
     "output_type": "stream",
     "text": [
      "mrconvert: [100%] copying from \"sub-023_se..._desc-preproc-inorm_dwi.mif\" to \"sub-023_se..._desc-preproc-inorm_dwi.nii\"\u001b[0K[0K\u001b[?7h\u001b[?7l\u001b[?7l\u001b[?7l\u001b[?7l\u001b[?7l\u001b[?7l\u001b[?7l\u001b[?7l\n",
      "mrconvert: [100%] copying from \"sub-023_ses-MR1_space-dwi_mask.mif\" to \"sub-023_ses-MR1_space-dwi_mask.nii\"\u001b[0K[0K\u001b[?7h\u001b[?7l\n"
     ]
    },
    {
     "name": "stdout",
     "output_type": "stream",
     "text": [
      "\n",
      "Process to perform dmri_dtidki\n",
      "DTI and DKI estimation\n",
      "Subject:       \t023\n",
      "Session:        MR1\n",
      "DWI (AP):       /mnt/s/Research/Projects/KPUM_NODDI/Data/derivatives/dMRI_OrigProtocol/sub-023/ses-MR1/dwi/sub-023_ses-MR1_desc-preproc-inorm_dwi.mif\n",
      "Mask:           /mnt/s/Research/Projects/KPUM_NODDI/Data/derivatives/dMRI_OrigProtocol/sub-023/ses-MR1/dwi/sub-023_ses-MR1_space-dwi_mask.mif\n",
      "Directory:      /mnt/s/Research/Projects/KPUM_NODDI/Data/derivatives/dMRI_OrigProtocol/sub-023/ses-MR1\n",
      "Threads:        4\n",
      "\n",
      "/mnt/s/Research/Projects/KPUM_NODDI/Data/code/kpum_noddi/shell/dmri_dtidki.sh   \t023 MR1 -d /mnt/s/Research/Projects/KPUM_NODDI/Data/derivatives/dMRI_OrigProtocol/sub-023/ses-MR1 -dwi /mnt/s/Research/Projects/KPUM_NODDI/Data/derivatives/dMRI_OrigProtocol/sub-023/ses-MR1/dwi/sub-023_ses-MR1_desc-preproc-inorm_dwi.mif -threads 4 -mask /mnt/s/Research/Projects/KPUM_NODDI/Data/derivatives/dMRI_OrigProtocol/sub-023/ses-MR1/dwi/sub-023_ses-MR1_space-dwi_mask.mif\n",
      "----------------------------\n",
      "dMRI preprocessing on subject 023 and session MR1\n",
      "\n",
      "Estimating DTI parameters using only b0 and b1000 shells\n"
     ]
    },
    {
     "name": "stderr",
     "output_type": "stream",
     "text": [
      "dwiextract: [100%] extracting volumes\u001b[0K[0K\u001b[?7h\u001b[?7l\u001b[?7l\u001b[?7l\u001b[?7l\u001b[?7l\u001b[?7l\n",
      "dwi2tensor: [100%] computing tensors\u001b[0K[0K\u001b[?7h\u001b[?7l\u001b[?7l\n",
      "tensor2metric: \u001b[00;31m[WARNING] existing output files will be overwritten\u001b[0m\n",
      "tensor2metric: [100%] computing metrics\u001b[0K[0K\u001b[?7h\u001b[?7l\n",
      "mrcalc: [100%] computing: (sub-023_ses-MR1_desc-preproc-inorm_dwi_MD.nii * 3)\u001b[0K[0K\u001b[?7h\u001b[?7l\n",
      "mrconvert: \u001b[01;31m[ERROR] output file \"sub-023_ses-MR1_space-dwi_mask.json\" already exists (use -force option to force overwrite)\u001b[0m\n",
      "INFO:Computing DKI metrics for ../sub-023_ses-MR1_desc-preproc-inorm_dwi.nii\n",
      "INFO:Diffusion kurtosis estimation...\n",
      "/home/finn/Software/miniconda3/envs/kpum_wsl/lib/python3.10/site-packages/dipy/reconst/dti.py:498: RuntimeWarning: invalid value encountered in divide\n",
      "  return 3 * np.sqrt(6) * determinant((A_squiggle / A_s_norm))\n",
      "INFO:DKI metrics saved in \n",
      "mrmath: \u001b[00;31m[WARNING] existing output files will be overwritten\u001b[0m\n",
      "mrmath: [100%] preloading data for \"sub-023_ses-MR1_desc-preproc-inorm_dwi_eval.nii\"\u001b[0K[0K\u001b[?7h\u001b[?7l\n",
      "mrmath: [100%] computing sum along axis 3...\u001b[0K[0K\u001b[?7h\u001b[?7l\u001b[?7l\n"
     ]
    },
    {
     "name": "stdout",
     "output_type": "stream",
     "text": [
      "\n"
     ]
    }
   ],
   "source": [
    "######################################\n",
    "# Define local functions\n",
    "\n",
    "def create_subjectrackertsv(subjecttrackertsv, subject, session) :   \n",
    "    import os \n",
    "    import pandas as pd\n",
    "    # create dataframe and write to file\n",
    "    new_row = {'participant_id': [f'sub-{subject}'], \n",
    "            'session_id': [f'ses-{session}']} \n",
    "    df = pd.DataFrame(new_row)\n",
    "    df.to_csv(subjecttrackertsv, sep=\"\\t\", index=False)\n",
    "\n",
    "def add_rowtodataframe(df, subject, session) :\n",
    "    import pandas as pd\n",
    "    # Check if {subject} {session} has entry in DataFrame, and adds if not\n",
    "    if not ((df['participant_id'] == f'sub-{subject}') & (df['session_id'] == f'ses-{session}')).any() :\n",
    "        # Add as a new line at the bottom\n",
    "        df = pd.concat([df, *[df.tail(1)]*1], ignore_index=True) # duplicates the last row in df\n",
    "        # first set all columns in the new last row to ''\n",
    "        df.loc[df.index[-1],:] = ''\n",
    "        # then update with correct subject and session\n",
    "        df.loc[df.index[-1],'participant_id'] = f'sub-{subject}'\n",
    "        df.loc[df.index[-1],'session_id'] = f'ses-{session}'\n",
    "    return df\n",
    "\n",
    "def insert_process(df, process) :\n",
    "    import pandas as pd\n",
    "    # Check if process is in any of the df.columns\n",
    "    # if not include put\n",
    "    if not process in df.columns :\n",
    "        # insert \"process\" and \"process comments\" columns add new two last columnsS\n",
    "        df.insert(loc=len(df.columns), column=process, value='')\n",
    "        df.insert(loc=len(df.columns), column=process+' comments', value='')\n",
    "    return df\n",
    "\n",
    "def checkstatus_process(df, process, subject, session, status) :\n",
    "    import pandas as pd\n",
    "    # Check the status of process for {subject} {session}\n",
    "    outputboolean = df.loc[(df['participant_id'] == f'sub-{subject}') & (df['session_id'] == f'ses-{session}'), process ].eq(status).any()\n",
    "    return outputboolean\n",
    "\n",
    "def setstatus_process(df, process, subject, session, status) :\n",
    "    import pandas as pd\n",
    "    # Check the status of process for {subject} {session}\n",
    "    df.loc[(df['participant_id'] == f'sub-{subject}') & (df['session_id'] == f'ses-{session}'), process ] = status\n",
    "    return df\n",
    "\n",
    "def perform_process(processcall) :\n",
    "    import os, subprocess\n",
    "    # Perform the process given by the processcall by launching into terminal\n",
    "    p=subprocess.Popen(processcall, stdout=subprocess.PIPE, shell=True)\n",
    "    # Poll process.stdout to show stdout live\n",
    "    while True:\n",
    "        output = p.stdout.readline()\n",
    "        if p.poll() is not None:\n",
    "            break\n",
    "        if output:\n",
    "            print(output.strip().decode(\"utf-8\"))\n",
    "    rc = p.poll()\n",
    "\n",
    "########################################\n",
    "## START\n",
    "\n",
    "import os \n",
    "import pandas as pd\n",
    "\n",
    "currdir = os.getcwd()\n",
    "os.chdir(studydir)\n",
    "\n",
    "# Read the subjecttrackertsv-file\n",
    "if not os.path.isfile(subjecttrackertsv) :\n",
    "    print(f'Creating {subjecttrackertsv}')\n",
    "    create_subjectrackertsv(subjecttrackertsv, subject, session)\n",
    "df = pd.read_csv(subjecttrackertsv, sep=\"\\t\")\n",
    "df.fillna('', inplace=True)\n",
    "\n",
    "# Check if subject session has an entry in subjecttrackertsv and add if not add one\n",
    "df = add_rowtodataframe(df, subject, session)\n",
    "\n",
    "## Process to perform - dmri_prepare_pipeline\n",
    "process = 'dmri_prepare_pipeline'\n",
    "processfile = 'dmri_prepare_pipeline.sh'\n",
    "processfilepath = os.path.join(codedir,'shell', processfile)\n",
    "processcall = f\"bash {processfilepath} {subject} {session} -d {datadir}\" \n",
    "print(f'Process to perform {process}')\n",
    "if not process in df.columns :\n",
    "    insert_process(df, process)\n",
    "# IMPORTANT - Should have a check here on whether to perform, but cannot make it work \n",
    "# Decide if we are going to perform process (i.e. Status should be Pending) and perform process\n",
    "if checkstatus_process(df, process, subject, session, 'Stop') :\n",
    "    print('We have to stop here')\n",
    "elif checkstatus_process(df, process, subject, session, 'Done') :\n",
    "    print(f'Process {process} is already Done')\n",
    "else :\n",
    "    print(f'Status for {process} is set to Pending = need to do this step')\n",
    "    setstatus_process(df, process, subject, session, 'Pending')\n",
    "    perform_process(processcall)\n",
    "    # Update status if process has gone to its end\n",
    "    if os.path.exists(os.path.join(datadir,'dwi/orig')) :\n",
    "        print(f'Status for {process} is set to Done')\n",
    "        setstatus_process(df, process, subject, session, 'Done')\n",
    "print()\n",
    "\n",
    "## Process to perform - dmri_preprocess\n",
    "process = 'dmri_preprocess'\n",
    "processfile = 'dmri_preprocess.sh'\n",
    "processfilepath = os.path.join(codedir,'shell', processfile)\n",
    "sessionQCfile = os.path.join(datadir,'session_QC.tsv')\n",
    "threads = 4\n",
    "processcall = f\"bash {processfilepath} {subject} {session} -d {datadir} -protocol {protocol} -s {sessionQCfile} -threads {threads}\" \n",
    "print(f'Process to perform {process}')\n",
    "if not process in df.columns :\n",
    "    insert_process(df, process)\n",
    "# IMPORTANT - Should have a check here on whether to perform, but cannot make it work \n",
    "# Decide if we are going to perform process (i.e. Status should be Pending) and perform process\n",
    "if checkstatus_process(df, process, subject, session, 'Stop') :\n",
    "    print('We have to stop here')\n",
    "elif checkstatus_process(df, process, subject, session, 'Done') :\n",
    "    print(f'Process {process} is already Done')\n",
    "else :\n",
    "    print(f'Status for {process} is set to Pending = need to do this step')\n",
    "    setstatus_process(df, process, subject, session, 'Pending')\n",
    "    perform_process(processcall)\n",
    "    # Update status if process has gone to its end (here last file written in /dwi)\n",
    "    if os.path.isfile(os.path.join(datadir,'dwi',f'sub-${subject}_ses-${session}_space-dwi_mask.nii')) :\n",
    "        print(f'Status for {process} is set to Done')\n",
    "        setstatus_process(df, process, subject, session, 'Done')\n",
    "print()\n",
    "\n",
    "## Process to perform - dmri_dtidk\n",
    "process = 'dmri_dtidki'\n",
    "processfile = 'dmri_dtidki.sh'\n",
    "processfilepath = os.path.join(codedir,'shell', processfile)\n",
    "dwi = os.path.join(datadir, 'dwi', f'sub-{subject}_ses-{session}_desc-preproc-inorm_dwi.mif')\n",
    "mask = os.path.join(datadir, 'dwi', f'sub-{subject}_ses-{session}_space-dwi_mask.mif')\n",
    "threads = 4\n",
    "processcall = f\"bash {processfilepath} {subject} {session} -d {datadir} -dwi {dwi} -threads {threads} -mask {mask}\" \n",
    "print(f'Process to perform {process}')\n",
    "if not process in df.columns :\n",
    "    insert_process(df, process)\n",
    "# IMPORTANT - Should have a check here on whether to perform, but cannot make it work \n",
    "# Decide if we are going to perform process (i.e. Status should be Pending) and perform process\n",
    "if checkstatus_process(df, process, subject, session, 'Stop') :\n",
    "    print('We have to stop here')\n",
    "elif checkstatus_process(df, process, subject, session, 'Done') :\n",
    "    print(f'Process {process} is already Done')\n",
    "else :\n",
    "    setstatus_process(df, process, subject, session, 'Pending')\n",
    "    perform_process(processcall)\n",
    "    # Update status if process has gone to its end (here last file written in /dwi)\n",
    "    if os.path.isfile(os.path.join(datadir,'dwi','dki',f'sub-${subject}_ses-${session}_desc-preproc-inorm_rk.nii')) :\n",
    "        print(f'Status for {process} is set to Done')\n",
    "        setstatus_process(df, process, subject, session, 'Done')\n",
    "print()\n",
    "\n",
    "# End by writing to subjecttrackertsv\n",
    "df = df.sort_values(by = 'participant_id')\n",
    "df.to_csv(subjecttrackertsv, sep=\"\\t\", index=False)\n",
    "# and back to currdir\n",
    "os.chdir(currdir)\n"
   ]
  }
 ],
 "metadata": {
  "kernelspec": {
   "display_name": "kpum_wsl",
   "language": "python",
   "name": "python3"
  },
  "language_info": {
   "codemirror_mode": {
    "name": "ipython",
    "version": 3
   },
   "file_extension": ".py",
   "mimetype": "text/x-python",
   "name": "python",
   "nbconvert_exporter": "python",
   "pygments_lexer": "ipython3",
   "version": "3.10.10"
  },
  "orig_nbformat": 4
 },
 "nbformat": 4,
 "nbformat_minor": 2
}
