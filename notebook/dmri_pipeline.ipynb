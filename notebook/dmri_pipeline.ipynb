{
 "cells": [
  {
   "cell_type": "code",
   "execution_count": 4,
   "metadata": {},
   "outputs": [],
   "source": [
    "import os\n",
    "\n",
    "# Check these before running\n",
    "# KPUM Workstation\n",
    "studydir = ''\n",
    "niftibasefolder = 'nifti' # nifti basefolder to go within studydir\n",
    "\n",
    "# Finn's Laptop\n",
    "studydir = '/mnt/s/Research/Projects/KPUM_NODDI/Data'\n",
    "niftibasefolder = 'nifti' # nifti basefolder to go within studydir\n",
    "datadir = 'derivatives/dMRI'\n",
    "protocol = 'OLD' # 'NEW'\n",
    "\n",
    "# tsv-files to keep track of in studydir/niftibasefolder\n",
    "subjecttrackerpath = os.path.join(studydir, datadir)\n",
    "subjecttrackerfile = 'Subject_Tracker_for_dmri_pipeline.tsv'\n",
    "\n",
    "###################################################################################\n",
    "# USER INPUT\n",
    "\n",
    "# Participant details\n",
    "subject = '011'\n",
    "session = 'MR1'"
   ]
  },
  {
   "cell_type": "code",
   "execution_count": 5,
   "metadata": {},
   "outputs": [],
   "source": [
    "import os\n",
    "\n",
    "# Define I/O folders and files\n",
    "niftifolder = os.path.join(studydir, niftibasefolder, os.path.join(f'sub-{subject}',f'ses-{session}'))\n",
    "datadirfolder = os.path.join(studydir, datadir,  os.path.join(f'sub-{subject}',f'ses-{session}'))\n",
    "if not os.path.exists(datadirfolder): # then make this directory\n",
    "    os.makedirs(datadirfolder)\n",
    "subjecttrackertsv = os.path.join(subjecttrackerpath, subjecttrackerfile)"
   ]
  },
  {
   "cell_type": "code",
   "execution_count": null,
   "metadata": {},
   "outputs": [],
   "source": [
    "import os \n",
    "import pandas as pd\n",
    "\n",
    "if not os.path.isfile(subjecttrackertsv) :\n",
    "    # create dataframe and write to file\n",
    "    new_row = {'participant_id': [f'sub-{subject}'], \n",
    "               'session_id': [f'ses-{session}'], \n",
    "               'comments': ['']} \n",
    "    df = pd.DataFrame(new_row)\n",
    "    df.set_index(['participant_id', 'session_id'])\n",
    "    df.to_csv(subjecttrackertsv, sep=\"\\t\", index=False)\n",
    "\n",
    "# Now the file into dataframe \n",
    "df = pd.read_csv(subjecttrackertsv, sep=\"\\t\", index_col = [0, 1]) # with participant_id and session_id as index columns\n",
    "df.fillna('', inplace=True)\n",
    "df.set_index(['participant_id', 'session_id'])\n",
    "\n"
   ]
  },
  {
   "cell_type": "code",
   "execution_count": null,
   "metadata": {},
   "outputs": [],
   "source": []
  }
 ],
 "metadata": {
  "kernelspec": {
   "display_name": "kpum_wsl",
   "language": "python",
   "name": "python3"
  },
  "language_info": {
   "codemirror_mode": {
    "name": "ipython",
    "version": 3
   },
   "file_extension": ".py",
   "mimetype": "text/x-python",
   "name": "python",
   "nbconvert_exporter": "python",
   "pygments_lexer": "ipython3",
   "version": "3.10.10"
  },
  "orig_nbformat": 4
 },
 "nbformat": 4,
 "nbformat_minor": 2
}
