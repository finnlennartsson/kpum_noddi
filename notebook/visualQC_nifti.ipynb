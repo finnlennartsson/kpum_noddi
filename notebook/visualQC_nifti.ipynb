{
 "cells": [
  {
   "cell_type": "code",
   "execution_count": 13,
   "metadata": {},
   "outputs": [],
   "source": [
    "import os\n",
    "\n",
    "# Check these before running\n",
    "# KPUM Workstation\n",
    "studydir = ''\n",
    "niftibasefolder = 'nifti' # nifti basefolder to go within studydir\n",
    "\n",
    "# Finn's Laptop\n",
    "studydir = '/mnt/s/Research/Projects/KPUM_NODDI/Data'\n",
    "niftibasefolder = 'nifti' # nifti basefolder to go within studydir\n",
    "\n",
    "# tsv-files to keep track of in studydir/niftibasefolder\n",
    "subjecttrackerpath = os.path.join(studydir, niftibasefolder)\n",
    "subjecttrackerfile = 'Subject_Tracker_for_sourcedata2nifti.tsv'\n",
    "\n",
    "# Visualization script in code directory\n",
    "visualizationscript = os.path.join(studydir,'code/kpum_noddi/shell','QC_visualize_nifti.sh')\n",
    "\n",
    "###################################################################################\n",
    "# USER INPUT\n",
    "\n",
    "# Participant details\n",
    "subject = '006'\n",
    "session = 'MR1'"
   ]
  },
  {
   "cell_type": "code",
   "execution_count": 14,
   "metadata": {},
   "outputs": [
    {
     "name": "stdout",
     "output_type": "stream",
     "text": [
      "Starting visual QC for nifti/sub-006/ses-MR1\n",
      "Creating session_QC.tsv file from /mnt/s/Research/Projects/KPUM_NODDI/Data/nifti/sub-006/ses-MR1/sub-006_ses-MR1_sourcedata2nifti.tsv\n",
      "QC eye-balling of BIDS rawdata given by session_QC.tsv file\n",
      "2 anat/sub-006_ses-MR1_acq-mprage_T1w.nii\n",
      "3 anat/sub-006_ses-MR1_acq-tra_T2w.nii\n",
      "4 anat/sub-006_ses-MR1_FLAIR.nii\n",
      "5 anat/sub-006_ses-MR1_acq-t2star_T2starw.nii\n",
      "6 anat/sub-006_ses-MR1_acq-swi_T2starw.nii\n",
      "7 anat/sub-006_ses-MR1_acq-swi_rec-mnip_T2starw.nii\n"
     ]
    },
    {
     "name": "stderr",
     "output_type": "stream",
     "text": [
      "mrview: \u001b[01;31m[ERROR] cannot stat file \"anat/sub-006_ses-MR1_acq-swi_rec-mnip_T2starw.nii\": No such file or directory\u001b[0m\n",
      "mrview: \u001b[01;31m[ERROR] cannot stat file \"anat/sub-006_ses-MR1_acq-swi_rec-mnip_T2starw.nii\": No such file or directory\u001b[0m\n",
      "mrview: \u001b[01;31m[ERROR] unknown format for image \"anat/sub-006_ses-MR1_acq-swi_rec-mnip_T2starw.nii\"\u001b[0m\n",
      "mrview: \u001b[01;31m[ERROR] error opening image \"anat/sub-006_ses-MR1_acq-swi_rec-mnip_T2starw.nii\"\u001b[0m\n"
     ]
    },
    {
     "ename": "KeyboardInterrupt",
     "evalue": "",
     "output_type": "error",
     "traceback": [
      "\u001b[0;31m---------------------------------------------------------------------------\u001b[0m",
      "\u001b[0;31mKeyboardInterrupt\u001b[0m                         Traceback (most recent call last)",
      "Cell \u001b[0;32mIn[14], line 25\u001b[0m\n\u001b[1;32m     23\u001b[0m \u001b[39m# Poll process.stdout to show stdout live\u001b[39;00m\n\u001b[1;32m     24\u001b[0m \u001b[39mwhile\u001b[39;00m \u001b[39mTrue\u001b[39;00m:\n\u001b[0;32m---> 25\u001b[0m   output \u001b[39m=\u001b[39m p\u001b[39m.\u001b[39;49mstdout\u001b[39m.\u001b[39;49mreadline()\n\u001b[1;32m     26\u001b[0m   \u001b[39mif\u001b[39;00m p\u001b[39m.\u001b[39mpoll() \u001b[39mis\u001b[39;00m \u001b[39mnot\u001b[39;00m \u001b[39mNone\u001b[39;00m:\n\u001b[1;32m     27\u001b[0m     \u001b[39mbreak\u001b[39;00m\n",
      "\u001b[0;31mKeyboardInterrupt\u001b[0m: "
     ]
    }
   ],
   "source": [
    "# Create conversion file sourcedata2nifti.tsv\n",
    "import os, subprocess\n",
    "import pandas as pd\n",
    "\n",
    "# Define I/O folders and files\n",
    "niftifolder = os.path.join(niftibasefolder, os.path.join(f'sub-{subject}',f'ses-{session}'))\n",
    "niftioutputfolder = os.path.join(studydir, niftifolder)\n",
    "subjecttrackertsv = os.path.join(subjecttrackerpath, subjecttrackerfile)\n",
    "\n",
    "currdir = os.getcwd()\n",
    "os.chdir(studydir)\n",
    "\n",
    "# Read the subjecttracker file\n",
    "df = pd.read_csv(subjecttrackertsv, sep=\"\\t\")\n",
    "df.fillna('', inplace=True)\n",
    "\n",
    "# Check if ready for QC\n",
    "\n",
    "if [ df.loc[df['output'] == niftifolder ]['QC'] == 'Pending' ] :\n",
    "  print(f\"Starting visual QC for {niftifolder}\")\n",
    "  # Launch script for Visual QC\n",
    "  p=subprocess.Popen(f\"bash {visualizationscript} {subject} {session}\", stdout=subprocess.PIPE, shell=True)\n",
    "  # Poll process.stdout to show stdout live\n",
    "  while True:\n",
    "    output = p.stdout.readline()\n",
    "    if p.poll() is not None:\n",
    "      break\n",
    "    if output:\n",
    "      print(output.strip().decode(\"utf-8\"))\n",
    "  rc = p.poll()\n",
    "\n",
    "  QCstatusDone = 'y' #int(input(\"Finished editing and saved the 'session_QC.tsv' file [y/n]?\"))\n",
    "  if QCstatusDone == 'y':\n",
    "    # We update in subjectrackerfile\n",
    "    df.loc[df['output'] == niftifolder, ['QC']] = 'Done'\n",
    "    # sort the rows according to 'input'\n",
    "    df = df.sort_values(by = 'input')\n",
    "    # and write to subjecttrackertsv-file\n",
    "    df.to_csv(subjecttrackertsv, sep=\"\\t\", index=False)\n",
    "elif [ df.loc[df['output'] == niftifolder ]['QC'] == 'Done' ] :\n",
    "  print(f\"Visual QC already performed on {niftifolder}\")\n",
    "else:\n",
    "  print(f\"Status not yet ready for visual QC on {niftifolder}\")\n",
    "      \n",
    "print('End of script')\n",
    "os.chdir(currdir)\n"
   ]
  }
 ],
 "metadata": {
  "kernelspec": {
   "display_name": "kpum_wsl",
   "language": "python",
   "name": "python3"
  },
  "language_info": {
   "codemirror_mode": {
    "name": "ipython",
    "version": 3
   },
   "file_extension": ".py",
   "mimetype": "text/x-python",
   "name": "python",
   "nbconvert_exporter": "python",
   "pygments_lexer": "ipython3",
   "version": "3.10.10"
  },
  "orig_nbformat": 4
 },
 "nbformat": 4,
 "nbformat_minor": 2
}
