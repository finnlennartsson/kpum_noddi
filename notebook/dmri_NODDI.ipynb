{
 "cells": [
  {
   "cell_type": "code",
   "execution_count": null,
   "metadata": {},
   "outputs": [],
   "source": [
    "import os\n",
    "\n",
    "# Check these before running\n",
    "\n",
    "# Finn's Laptop\n",
    "studydir = '/mnt/s/Research/Projects/KPUM_NODDI/Data'\n",
    "niftibasefolder = 'nifti' # nifti basefolder to go within studydir\n",
    "datadirbasefolder = 'derivatives/dMRI_OrigProtocol'\n",
    "protocol = 'ORIG' # 'NEW'\n",
    "\n",
    "# KPUM Workstation\n",
    "studydir = '/mnt/e/Research/Projects/KPUM_NODDI/Data'\n",
    "niftibasefolder = 'nifti' # nifti basefolder to go within studydir\n",
    "datadirbasefolder = 'derivatives/dMRI_OrigProtocol'\n",
    "protocol = 'ORIG' # 'NEW'\n",
    "\n",
    "# tsv-files to keep track of in studydir/niftibasefolder\n",
    "subjecttrackerpath = os.path.join(studydir, datadirbasefolder)\n",
    "subjecttrackerfile = 'Subject_Tracker_for_dmri_pipeline.tsv'\n",
    "\n",
    "###################################################################################\n",
    "# USER INPUT\n",
    "\n",
    "# Participant details\n",
    "subject = '026'\n",
    "session = 'MR1'"
   ]
  },
  {
   "cell_type": "code",
   "execution_count": null,
   "metadata": {},
   "outputs": [],
   "source": [
    "import os\n",
    "\n",
    "# Define I/O folders and files\n",
    "niftifolder = os.path.join(studydir, niftibasefolder, os.path.join(f'sub-{subject}',f'ses-{session}'))\n",
    "datadir = os.path.join(studydir, datadirbasefolder,  os.path.join(f'sub-{subject}',f'ses-{session}'))\n",
    "if not os.path.exists(datadir): # then make this directory\n",
    "    os.makedirs(datadir)\n",
    "subjecttrackertsv = os.path.join(subjecttrackerpath, subjecttrackerfile)"
   ]
  },
  {
   "cell_type": "code",
   "execution_count": null,
   "metadata": {},
   "outputs": [],
   "source": [
    "import amico\n",
    "amico.setup() # to be run only once\n",
    "\n",
    "ae = amico.Evaluation( datadirbasefolder, os.path.join(f'sub-{subject}', f'ses-{session}') )\n",
    "\n",
    "amico.util.fsl2scheme( \"Study01/Subject01/NODDI_protocol.bval\", \"Study01/Subject01/NODDI_protocol.bvec\" )\n",
    "\n",
    "ae.load_data( dwi_filename=\"NODDI_DWI.img\", scheme_filename=\"NODDI_protocol.scheme\", mask_filename=\"roi_mask.img\", b0_thr=0 )\n",
    "\n",
    "ae.set_model( \"NODDI\" )\n",
    "ae.generate_kernels( regenerate=True )\n",
    "ae.load_kernels()\n",
    "\n",
    "ae.fit()\n",
    "ae.save_results()\n"
   ]
  }
 ],
 "metadata": {
  "kernelspec": {
   "display_name": "kpum_wsl",
   "language": "python",
   "name": "python3"
  },
  "language_info": {
   "name": "python",
   "version": "3.10.10"
  },
  "orig_nbformat": 4
 },
 "nbformat": 4,
 "nbformat_minor": 2
}
