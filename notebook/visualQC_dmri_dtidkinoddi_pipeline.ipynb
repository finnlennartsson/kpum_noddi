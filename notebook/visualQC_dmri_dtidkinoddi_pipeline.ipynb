{
 "cells": [
  {
   "cell_type": "code",
   "execution_count": 14,
   "metadata": {},
   "outputs": [],
   "source": [
    "import os\n",
    "\n",
    "# Check these before running\n",
    "\n",
    "# KPUM Workstation\n",
    "studydir = '/mnt/e/Finn/KPUM_NODDI/Data'\n",
    "derivatives = 'derivatives/dmri_op' # derivatives folder containing the processed data \n",
    "codedir = '/home/radio/KPUM_NODDI/code/kpum_noddi' # Workaround for issue\n",
    "\n",
    "# Finn's Laptop\n",
    "studydir = '/mnt/d/KPUM_NODDI/Data'\n",
    "codedir = os.path.join('/home/finn', 'Code', 'kpum_noddi') # Codedir when running Notebooks\n",
    "#codedir = os.path.join(studydir, 'kpum_noddi_ssd','code', 'kpum_noddi') # Codedir when running Notebooks\n",
    "\n",
    "# tsv-files to keep track of in studydir/niftibasefolder\n",
    "subjecttrackerpath = os.path.join(studydir, derivatives)\n",
    "subjecttrackerfile = 'Subject_Tracker_for_dmri_dtidkinoddi_pipeline.tsv'\n",
    "visualizationscript = os.path.join(codedir,'shell','QC_visualize_dmri_dtidkinoddi_pipeline.sh')\n",
    "\n",
    "###################################################################################\n",
    "# START USER INPUT\n",
    "\n",
    "# Participant details\n",
    "subject = '041' # e.g. '005'\n",
    "session = 'MR1' #i.e. 'MR1' or 'MR2'\n",
    "derivatives = 'derivatives/dmri_op' # derivatives folder containing the processed data \n",
    "protocol = 'ORIG' # 'NEW' or 'ORIG'\n",
    "\n",
    "# END USER INPUT\n",
    "###################################################################################\n"
   ]
  },
  {
   "cell_type": "code",
   "execution_count": 15,
   "metadata": {
    "scrolled": true
   },
   "outputs": [
    {
     "name": "stdout",
     "output_type": "stream",
     "text": [
      "Starting visual QC for /mnt/d/KPUM_NODDI/Data/derivatives/dmri_op/sub-041/ses-MR1\n",
      "QC of dmri_dtidkinoddi_pipeline\n",
      "----------------------------\n",
      "Subject:       \t041\n",
      "Session:        MR1\n",
      "Studydir:\t\t/mnt/d/KPUM_NODDI/Data\n",
      "Derivatives: \tderivatives/dmri_op\n",
      "DataDirectory:\t/mnt/d/KPUM_NODDI/Data/derivatives/dmri_op/sub-041/ses-MR1\n",
      "\n",
      "Codedir:\t/home/finn/Code/kpum_noddi/shell\n",
      "/home/finn/Code/kpum_noddi/shell/QC_visualize_dmri_dtidkinoddi_pipeline.sh   \t041 MR1 /mnt/d/KPUM_NODDI/Data derivatives/dmri_op\n",
      "----------------------------\n",
      "\n",
      "Creating /mnt/d/KPUM_NODDI/Data/derivatives/dmri_op/sub-041/ses-MR1/sub-041_ses-MR1_pipeline_QC.tsv for QC according to /home/finn/Code/kpum_noddi/shell/QC_visualize_dmri_dtidkinoddi_pipeline.sh\n",
      "############## QC of Process: Preprocess\n",
      "\n",
      "QC of MP PCA-denosing with dwidenoise\n",
      "Check the residuals! Should not contain anatomical structure in brain parenchyma\n"
     ]
    },
    {
     "name": "stderr",
     "output_type": "stream",
     "text": [
      "QStandardPaths: wrong permissions on runtime directory /mnt/wslg/runtime-dir, 0777 instead of 0700\n",
      "mrview: \u001b[01;31m[ERROR] failed to open key/value file \"denoise/dwi_den_residuals.mif\": No such file or directory\u001b[0m\n",
      "mrview: \u001b[01;31m[ERROR] error opening image \"denoise/dwi_den_residuals.mif\"\u001b[0m\n"
     ]
    },
    {
     "name": "stdout",
     "output_type": "stream",
     "text": [
      "\n",
      "QC of Gibbs Ringing Artifacts removal with mrdegibbs\n",
      "Check the residuals! Should not contain anatomical structure brain parenchyma\n"
     ]
    },
    {
     "name": "stderr",
     "output_type": "stream",
     "text": [
      "QStandardPaths: wrong permissions on runtime directory /mnt/wslg/runtime-dir, 0777 instead of 0700\n",
      "mrview: \u001b[01;31m[ERROR] failed to open key/value file \"unring/dwi_den_unr_residuals.mif\": No such file or directory\u001b[0m\n",
      "mrview: \u001b[01;31m[ERROR] error opening image \"unring/dwi_den_unr_residuals.mif\"\u001b[0m\n"
     ]
    },
    {
     "name": "stdout",
     "output_type": "stream",
     "text": [
      "\n",
      "QC of EDDY (ORIG protocol) or TOPUP+EDDY (NEW protocol)\n",
      "Check corrected dMRI, shell by shell, for residual motion, signal dropout, (excessive) image distortions\n",
      "b-values with dMRI-volumes\n",
      "\n",
      "QC of BET Brain Mask (dilated to ensure usage with ACT - NOTE can be a problem for the JHU-registration)\n",
      "Check the so that brain mask is covering the whole brain but not excessively extends into the extra-axial tissue\n",
      "Visualisation of Brain Mask as an ROI-overlay on meanb0\n"
     ]
    },
    {
     "name": "stderr",
     "output_type": "stream",
     "text": [
      "mrinfo: \u001b[01;31m[ERROR] failed to open key/value file \"dwi_den_unr_eddy.mif\": No such file or directory\u001b[0m\n",
      "mrinfo: \u001b[01;31m[ERROR] error opening image \"dwi_den_unr_eddy.mif\"\u001b[0m\n",
      "mrinfo: \u001b[01;31m[ERROR] failed to open key/value file \"dwi_den_unr_eddy.mif\": No such file or directory\u001b[0m\n",
      "mrinfo: \u001b[01;31m[ERROR] error opening image \"dwi_den_unr_eddy.mif\"\u001b[0m\n",
      "dwiextract: \u001b[01;31m[ERROR] failed to open key/value file \"dwi_den_unr_eddy.mif\": No such file or directory\u001b[0m\n",
      "dwiextract: \u001b[01;31m[ERROR] error opening image \"dwi_den_unr_eddy.mif\"\u001b[0m\n",
      "mrmath: \u001b[01;31m[ERROR] no filename supplied to standard input (broken pipe?)\u001b[0m\n",
      "mrmath: \u001b[01;31m[ERROR] error opening image \"-\"\u001b[0m\n",
      "QStandardPaths: wrong permissions on runtime directory /mnt/wslg/runtime-dir, 0777 instead of 0700\n",
      "mrview: \u001b[01;31m[ERROR] no filename supplied to standard input (broken pipe?)\u001b[0m\n",
      "mrview: \u001b[01;31m[ERROR] error opening image \"-\"\u001b[0m\n",
      "mrview: \u001b[01;31m[ERROR] failed to open key/value file \"mask.mif\": No such file or directory\u001b[0m\n",
      "mrview: \u001b[01;31m[ERROR] error opening image \"mask.mif\"\u001b[0m\n"
     ]
    },
    {
     "name": "stdout",
     "output_type": "stream",
     "text": [
      "\n",
      "QC of final preprocessing output (N4-biasfield corrected and B0-intensity normalised)\n",
      "Visualization of skull-stripped meanb0\n"
     ]
    },
    {
     "name": "stderr",
     "output_type": "stream",
     "text": [
      "QStandardPaths: wrong permissions on runtime directory /mnt/wslg/runtime-dir, 0777 instead of 0700\n",
      "mrview: \u001b[01;31m[ERROR] failed to open key/value file \"sub-041_ses-MR1_dir-AP_desc-preproc-inorm-brain_meanb0.mif\": No such file or directory\u001b[0m\n",
      "mrview: \u001b[01;31m[ERROR] error opening image \"sub-041_ses-MR1_dir-AP_desc-preproc-inorm-brain_meanb0.mif\"\u001b[0m\n"
     ]
    },
    {
     "name": "stdout",
     "output_type": "stream",
     "text": [
      "Visualization of skull-stripped meanb1000\n"
     ]
    },
    {
     "name": "stderr",
     "output_type": "stream",
     "text": [
      "QStandardPaths: wrong permissions on runtime directory /mnt/wslg/runtime-dir, 0777 instead of 0700\n",
      "mrview: \u001b[01;31m[ERROR] failed to open key/value file \"sub-041_ses-MR1_dir-AP_desc-preproc-inorm-brain_meanb1000.mif\": No such file or directory\u001b[0m\n",
      "mrview: \u001b[01;31m[ERROR] error opening image \"sub-041_ses-MR1_dir-AP_desc-preproc-inorm-brain_meanb1000.mif\"\u001b[0m\n"
     ]
    },
    {
     "name": "stdout",
     "output_type": "stream",
     "text": [
      "Visualization of skull-stripped meanb2000\n"
     ]
    },
    {
     "name": "stderr",
     "output_type": "stream",
     "text": [
      "QStandardPaths: wrong permissions on runtime directory /mnt/wslg/runtime-dir, 0777 instead of 0700\n",
      "mrview: \u001b[01;31m[ERROR] failed to open key/value file \"sub-041_ses-MR1_dir-AP_desc-preproc-inorm-brain_meanb2000.mif\": No such file or directory\u001b[0m\n",
      "mrview: \u001b[01;31m[ERROR] error opening image \"sub-041_ses-MR1_dir-AP_desc-preproc-inorm-brain_meanb2000.mif\"\u001b[0m\n"
     ]
    },
    {
     "name": "stdout",
     "output_type": "stream",
     "text": [
      "\n",
      "############## QC of Process: DTI and DKI\n",
      "\n",
      "QC of generated DTI maps (FA, MD, AD, RD, RGB, Trace)\n",
      "Visualization of DTI map: FA\n"
     ]
    },
    {
     "name": "stderr",
     "output_type": "stream",
     "text": [
      "QStandardPaths: wrong permissions on runtime directory /mnt/wslg/runtime-dir, 0777 instead of 0700\n",
      "mrview: \u001b[01;31m[ERROR] cannot stat file \"sub-041_ses-MR1_dir-AP_desc-preproc-inorm_dwi_FA.nii\": No such file or directory\u001b[0m\n",
      "mrview: \u001b[01;31m[ERROR] cannot stat file \"sub-041_ses-MR1_dir-AP_desc-preproc-inorm_dwi_FA.nii\": No such file or directory\u001b[0m\n",
      "mrview: \u001b[01;31m[ERROR] unknown format for image \"sub-041_ses-MR1_dir-AP_desc-preproc-inorm_dwi_FA.nii\"\u001b[0m\n",
      "mrview: \u001b[01;31m[ERROR] error opening image \"sub-041_ses-MR1_dir-AP_desc-preproc-inorm_dwi_FA.nii\"\u001b[0m\n"
     ]
    },
    {
     "name": "stdout",
     "output_type": "stream",
     "text": [
      "Visualization of DTI map: MD\n"
     ]
    },
    {
     "name": "stderr",
     "output_type": "stream",
     "text": [
      "QStandardPaths: wrong permissions on runtime directory /mnt/wslg/runtime-dir, 0777 instead of 0700\n",
      "mrview: \u001b[01;31m[ERROR] cannot stat file \"sub-041_ses-MR1_dir-AP_desc-preproc-inorm_dwi_MD.nii\": No such file or directory\u001b[0m\n",
      "mrview: \u001b[01;31m[ERROR] cannot stat file \"sub-041_ses-MR1_dir-AP_desc-preproc-inorm_dwi_MD.nii\": No such file or directory\u001b[0m\n",
      "mrview: \u001b[01;31m[ERROR] unknown format for image \"sub-041_ses-MR1_dir-AP_desc-preproc-inorm_dwi_MD.nii\"\u001b[0m\n",
      "mrview: \u001b[01;31m[ERROR] error opening image \"sub-041_ses-MR1_dir-AP_desc-preproc-inorm_dwi_MD.nii\"\u001b[0m\n"
     ]
    },
    {
     "name": "stdout",
     "output_type": "stream",
     "text": [
      "Visualization of DTI map: AD\n"
     ]
    },
    {
     "name": "stderr",
     "output_type": "stream",
     "text": [
      "QStandardPaths: wrong permissions on runtime directory /mnt/wslg/runtime-dir, 0777 instead of 0700\n",
      "mrview: \u001b[01;31m[ERROR] cannot stat file \"sub-041_ses-MR1_dir-AP_desc-preproc-inorm_dwi_AD.nii\": No such file or directory\u001b[0m\n",
      "mrview: \u001b[01;31m[ERROR] cannot stat file \"sub-041_ses-MR1_dir-AP_desc-preproc-inorm_dwi_AD.nii\": No such file or directory\u001b[0m\n",
      "mrview: \u001b[01;31m[ERROR] unknown format for image \"sub-041_ses-MR1_dir-AP_desc-preproc-inorm_dwi_AD.nii\"\u001b[0m\n",
      "mrview: \u001b[01;31m[ERROR] error opening image \"sub-041_ses-MR1_dir-AP_desc-preproc-inorm_dwi_AD.nii\"\u001b[0m\n"
     ]
    },
    {
     "name": "stdout",
     "output_type": "stream",
     "text": [
      "Visualization of DTI map: RD\n"
     ]
    },
    {
     "name": "stderr",
     "output_type": "stream",
     "text": [
      "QStandardPaths: wrong permissions on runtime directory /mnt/wslg/runtime-dir, 0777 instead of 0700\n",
      "mrview: \u001b[01;31m[ERROR] cannot stat file \"sub-041_ses-MR1_dir-AP_desc-preproc-inorm_dwi_RD.nii\": No such file or directory\u001b[0m\n",
      "mrview: \u001b[01;31m[ERROR] cannot stat file \"sub-041_ses-MR1_dir-AP_desc-preproc-inorm_dwi_RD.nii\": No such file or directory\u001b[0m\n",
      "mrview: \u001b[01;31m[ERROR] unknown format for image \"sub-041_ses-MR1_dir-AP_desc-preproc-inorm_dwi_RD.nii\"\u001b[0m\n",
      "mrview: \u001b[01;31m[ERROR] error opening image \"sub-041_ses-MR1_dir-AP_desc-preproc-inorm_dwi_RD.nii\"\u001b[0m\n"
     ]
    },
    {
     "name": "stdout",
     "output_type": "stream",
     "text": [
      "Visualization of DTI map: RGB\n"
     ]
    },
    {
     "name": "stderr",
     "output_type": "stream",
     "text": [
      "QStandardPaths: wrong permissions on runtime directory /mnt/wslg/runtime-dir, 0777 instead of 0700\n",
      "mrview: \u001b[01;31m[ERROR] cannot stat file \"sub-041_ses-MR1_dir-AP_desc-preproc-inorm_dwi_RGB.nii\": No such file or directory\u001b[0m\n",
      "mrview: \u001b[01;31m[ERROR] cannot stat file \"sub-041_ses-MR1_dir-AP_desc-preproc-inorm_dwi_RGB.nii\": No such file or directory\u001b[0m\n",
      "mrview: \u001b[01;31m[ERROR] unknown format for image \"sub-041_ses-MR1_dir-AP_desc-preproc-inorm_dwi_RGB.nii\"\u001b[0m\n",
      "mrview: \u001b[01;31m[ERROR] error opening image \"sub-041_ses-MR1_dir-AP_desc-preproc-inorm_dwi_RGB.nii\"\u001b[0m\n"
     ]
    },
    {
     "name": "stdout",
     "output_type": "stream",
     "text": [
      "Visualization of DTI map: Trace\n"
     ]
    },
    {
     "name": "stderr",
     "output_type": "stream",
     "text": [
      "QStandardPaths: wrong permissions on runtime directory /mnt/wslg/runtime-dir, 0777 instead of 0700\n",
      "mrview: \u001b[01;31m[ERROR] cannot stat file \"sub-041_ses-MR1_dir-AP_desc-preproc-inorm_dwi_Trace.nii\": No such file or directory\u001b[0m\n",
      "mrview: \u001b[01;31m[ERROR] cannot stat file \"sub-041_ses-MR1_dir-AP_desc-preproc-inorm_dwi_Trace.nii\": No such file or directory\u001b[0m\n",
      "mrview: \u001b[01;31m[ERROR] unknown format for image \"sub-041_ses-MR1_dir-AP_desc-preproc-inorm_dwi_Trace.nii\"\u001b[0m\n",
      "mrview: \u001b[01;31m[ERROR] error opening image \"sub-041_ses-MR1_dir-AP_desc-preproc-inorm_dwi_Trace.nii\"\u001b[0m\n"
     ]
    },
    {
     "name": "stdout",
     "output_type": "stream",
     "text": [
      "\n",
      "QC of generated DKI maps (AK, RK, MK)\n",
      "Visualization of DKI map: ak\n"
     ]
    },
    {
     "name": "stderr",
     "output_type": "stream",
     "text": [
      "QStandardPaths: wrong permissions on runtime directory /mnt/wslg/runtime-dir, 0777 instead of 0700\n",
      "mrview: \u001b[01;31m[ERROR] cannot stat file \"sub-041_ses-MR1_dir-AP_desc-preproc-inorm_dwi_ak.nii\": No such file or directory\u001b[0m\n",
      "mrview: \u001b[01;31m[ERROR] cannot stat file \"sub-041_ses-MR1_dir-AP_desc-preproc-inorm_dwi_ak.nii\": No such file or directory\u001b[0m\n",
      "mrview: \u001b[01;31m[ERROR] unknown format for image \"sub-041_ses-MR1_dir-AP_desc-preproc-inorm_dwi_ak.nii\"\u001b[0m\n",
      "mrview: \u001b[01;31m[ERROR] error opening image \"sub-041_ses-MR1_dir-AP_desc-preproc-inorm_dwi_ak.nii\"\u001b[0m\n"
     ]
    },
    {
     "name": "stdout",
     "output_type": "stream",
     "text": [
      "Visualization of DKI map: rk\n"
     ]
    },
    {
     "name": "stderr",
     "output_type": "stream",
     "text": [
      "QStandardPaths: wrong permissions on runtime directory /mnt/wslg/runtime-dir, 0777 instead of 0700\n",
      "mrview: \u001b[01;31m[ERROR] cannot stat file \"sub-041_ses-MR1_dir-AP_desc-preproc-inorm_dwi_rk.nii\": No such file or directory\u001b[0m\n",
      "mrview: \u001b[01;31m[ERROR] cannot stat file \"sub-041_ses-MR1_dir-AP_desc-preproc-inorm_dwi_rk.nii\": No such file or directory\u001b[0m\n",
      "mrview: \u001b[01;31m[ERROR] unknown format for image \"sub-041_ses-MR1_dir-AP_desc-preproc-inorm_dwi_rk.nii\"\u001b[0m\n",
      "mrview: \u001b[01;31m[ERROR] error opening image \"sub-041_ses-MR1_dir-AP_desc-preproc-inorm_dwi_rk.nii\"\u001b[0m\n"
     ]
    },
    {
     "name": "stdout",
     "output_type": "stream",
     "text": [
      "Visualization of DKI map: mk\n"
     ]
    },
    {
     "name": "stderr",
     "output_type": "stream",
     "text": [
      "QStandardPaths: wrong permissions on runtime directory /mnt/wslg/runtime-dir, 0777 instead of 0700\n",
      "mrview: \u001b[01;31m[ERROR] cannot stat file \"sub-041_ses-MR1_dir-AP_desc-preproc-inorm_dwi_mk.nii\": No such file or directory\u001b[0m\n",
      "mrview: \u001b[01;31m[ERROR] cannot stat file \"sub-041_ses-MR1_dir-AP_desc-preproc-inorm_dwi_mk.nii\": No such file or directory\u001b[0m\n",
      "mrview: \u001b[01;31m[ERROR] unknown format for image \"sub-041_ses-MR1_dir-AP_desc-preproc-inorm_dwi_mk.nii\"\u001b[0m\n",
      "mrview: \u001b[01;31m[ERROR] error opening image \"sub-041_ses-MR1_dir-AP_desc-preproc-inorm_dwi_mk.nii\"\u001b[0m\n"
     ]
    },
    {
     "name": "stdout",
     "output_type": "stream",
     "text": [
      "\n",
      "############## QC of Process: NODDI\n",
      "\n",
      "QC of generated NODDI maps (ICVF, ISOVF, OD)\n",
      "Visualization of NODDI map: ICVF\n"
     ]
    },
    {
     "name": "stderr",
     "output_type": "stream",
     "text": [
      "/home/finn/Code/kpum_noddi/shell/QC_visualize_dmri_dtidkinoddi_pipeline.sh: line 170: cd: /mnt/d/KPUM_NODDI/Data/derivatives/dmri_op/sub-041/ses-MR1/dwi/noddi: No such file or directory\n",
      "QStandardPaths: wrong permissions on runtime directory /mnt/wslg/runtime-dir, 0777 instead of 0700\n",
      "mrview: \u001b[01;31m[ERROR] cannot stat file \"sub-041_ses-MR1_dir-AP_desc-preproc-inorm_recon-NODDI-dPar-*_ICVF.nii\": No such file or directory\u001b[0m\n",
      "mrview: \u001b[01;31m[ERROR] cannot stat file \"sub-041_ses-MR1_dir-AP_desc-preproc-inorm_recon-NODDI-dPar-*_ICVF.nii\": No such file or directory\u001b[0m\n",
      "mrview: \u001b[01;31m[ERROR] unknown format for image \"sub-041_ses-MR1_dir-AP_desc-preproc-inorm_recon-NODDI-dPar-*_ICVF.nii\"\u001b[0m\n",
      "mrview: \u001b[01;31m[ERROR] error opening image \"sub-041_ses-MR1_dir-AP_desc-preproc-inorm_recon-NODDI-dPar-*_ICVF.nii\"\u001b[0m\n"
     ]
    },
    {
     "name": "stdout",
     "output_type": "stream",
     "text": [
      "Visualization of NODDI map: ISOVF\n"
     ]
    },
    {
     "name": "stderr",
     "output_type": "stream",
     "text": [
      "QStandardPaths: wrong permissions on runtime directory /mnt/wslg/runtime-dir, 0777 instead of 0700\n",
      "mrview: \u001b[01;31m[ERROR] cannot stat file \"sub-041_ses-MR1_dir-AP_desc-preproc-inorm_recon-NODDI-dPar-*_ISOVF.nii\": No such file or directory\u001b[0m\n",
      "mrview: \u001b[01;31m[ERROR] cannot stat file \"sub-041_ses-MR1_dir-AP_desc-preproc-inorm_recon-NODDI-dPar-*_ISOVF.nii\": No such file or directory\u001b[0m\n",
      "mrview: \u001b[01;31m[ERROR] unknown format for image \"sub-041_ses-MR1_dir-AP_desc-preproc-inorm_recon-NODDI-dPar-*_ISOVF.nii\"\u001b[0m\n",
      "mrview: \u001b[01;31m[ERROR] error opening image \"sub-041_ses-MR1_dir-AP_desc-preproc-inorm_recon-NODDI-dPar-*_ISOVF.nii\"\u001b[0m\n"
     ]
    },
    {
     "name": "stdout",
     "output_type": "stream",
     "text": [
      "Visualization of NODDI map: OD\n"
     ]
    },
    {
     "name": "stderr",
     "output_type": "stream",
     "text": [
      "QStandardPaths: wrong permissions on runtime directory /mnt/wslg/runtime-dir, 0777 instead of 0700\n",
      "mrview: \u001b[01;31m[ERROR] cannot stat file \"sub-041_ses-MR1_dir-AP_desc-preproc-inorm_recon-NODDI-dPar-*_OD.nii\": No such file or directory\u001b[0m\n",
      "mrview: \u001b[01;31m[ERROR] cannot stat file \"sub-041_ses-MR1_dir-AP_desc-preproc-inorm_recon-NODDI-dPar-*_OD.nii\": No such file or directory\u001b[0m\n",
      "mrview: \u001b[01;31m[ERROR] unknown format for image \"sub-041_ses-MR1_dir-AP_desc-preproc-inorm_recon-NODDI-dPar-*_OD.nii\"\u001b[0m\n",
      "mrview: \u001b[01;31m[ERROR] error opening image \"sub-041_ses-MR1_dir-AP_desc-preproc-inorm_recon-NODDI-dPar-*_OD.nii\"\u001b[0m\n"
     ]
    },
    {
     "name": "stdout",
     "output_type": "stream",
     "text": [
      "\n",
      "############## QC of Process: OpenMAP-Di\n",
      "\n",
      "QC of OpenMAP-Di segmentation\n",
      "OpenMAP-Di segmentation is overlaid on the b0 - check for consistency and misclassified voxels\n"
     ]
    },
    {
     "name": "stderr",
     "output_type": "stream",
     "text": [
      "QStandardPaths: wrong permissions on runtime directory /mnt/wslg/runtime-dir, 0777 instead of 0700\n",
      "mrview: \u001b[01;31m[ERROR] cannot access file \"sub-041_ses-MR1_dir-AP_desc-preproc-inorm_0000.nii.gz\": No such file or directory\u001b[0m\n",
      "mrview: \u001b[01;31m[ERROR] error opening image \"sub-041_ses-MR1_dir-AP_desc-preproc-inorm_0000.nii.gz\"\u001b[0m\n",
      "mrview: \u001b[01;31m[ERROR] cannot access file \"sub-041_ses-MR1_dir-AP_desc-preproc-inorm_space-dwi_seg-JHU-MNI_dseg.nii.gz\": No such file or directory\u001b[0m\n",
      "mrview: \u001b[01;31m[ERROR] error opening image \"sub-041_ses-MR1_dir-AP_desc-preproc-inorm_space-dwi_seg-JHU-MNI_dseg.nii.gz\"\u001b[0m\n"
     ]
    },
    {
     "name": "stdout",
     "output_type": "stream",
     "text": [
      "Done visual QC for /mnt/d/KPUM_NODDI/Data/derivatives/dmri_op/sub-041/ses-MR1\n",
      "End of script\n"
     ]
    }
   ],
   "source": [
    "# Create conversion file sourcedata2nifti.tsv\n",
    "import os, subprocess\n",
    "import pandas as pd\n",
    "\n",
    "# Define I/O folders and files\n",
    "subjecttrackertsv = os.path.join(subjecttrackerpath, subjecttrackerfile)\n",
    "datadir=os.path.join(studydir,derivatives,os.path.join(f'sub-{subject}',f'ses-{session}'))\n",
    "\n",
    "currdir = os.getcwd()\n",
    "os.chdir(studydir)\n",
    "\n",
    "# Read the subjecttracker file\n",
    "df = pd.read_csv(subjecttrackertsv, sep=\"\\t\")\n",
    "df.fillna('', inplace=True)\n",
    "\n",
    "#print(df)\n",
    "\n",
    "# Check if ready for QC\n",
    "if 'Pending' in df.loc[(df['participant_id'] == f'sub-{subject}') & (df['session_id'] == f'ses-{session}')]['QC'].values :\n",
    "  \n",
    "  print(f'Starting visual QC for {datadir}')\n",
    "  # Launch script for Visual QC\n",
    "  p=subprocess.Popen(f\"bash {visualizationscript} {subject} {session} {studydir} {derivatives}\", stdout=subprocess.PIPE, shell=True)\n",
    "  # Poll process.stdout to show stdout live\n",
    "  while True:\n",
    "    output = p.stdout.readline()\n",
    "    if p.poll() is not None:\n",
    "      break\n",
    "    if output:\n",
    "      print(output.strip().decode(\"utf-8\"))\n",
    "  rc = p.poll()\n",
    "  print(f'Done visual QC for {datadir}')\n",
    "  QCstatusDone = 'y'\n",
    "  \n",
    "  if QCstatusDone == 'y':\n",
    "    # We update in subjectrackerfile\n",
    "    df.loc[(df['participant_id'] == f'sub-{subject}') & (df['session_id'] == f'ses-{session}'), ['QC']] = 'Done'\n",
    "    # sort the rows according to 'input'\n",
    "    df = df.sort_values( ['session_id', 'participant_id'], ascending = [True, True])\n",
    "    # and write to subjecttrackertsv-file\n",
    "    df.to_csv(subjecttrackertsv, sep=\"\\t\", index=False)\n",
    "elif 'Done' in df.loc[(df.participant_id == {subject}) & (df.session_id == {session})]['QC'].values :\n",
    "  print(f\"Visual QC already performed on {datadir}\")\n",
    "else:\n",
    "  print(f\"Status not yet ready for visual QC on {datadir}\")\n",
    "      \n",
    "print('End of script')\n",
    "os.chdir(currdir)\n"
   ]
  }
 ],
 "metadata": {
  "kernelspec": {
   "display_name": "kpum_wsl",
   "language": "python",
   "name": "python3"
  },
  "language_info": {
   "codemirror_mode": {
    "name": "ipython",
    "version": 3
   },
   "file_extension": ".py",
   "mimetype": "text/x-python",
   "name": "python",
   "nbconvert_exporter": "python",
   "pygments_lexer": "ipython3",
   "version": "3.10.13"
  }
 },
 "nbformat": 4,
 "nbformat_minor": 2
}
