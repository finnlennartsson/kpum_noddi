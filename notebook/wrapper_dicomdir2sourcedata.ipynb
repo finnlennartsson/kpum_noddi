{
 "cells": [
  {
   "cell_type": "code",
   "execution_count": 1,
   "metadata": {},
   "outputs": [
    {
     "ename": "NameError",
     "evalue": "name 'subject' is not defined",
     "output_type": "error",
     "traceback": [
      "\u001b[0;31m---------------------------------------------------------------------------\u001b[0m",
      "\u001b[0;31mNameError\u001b[0m                                 Traceback (most recent call last)",
      "Cell \u001b[0;32mIn[1], line 18\u001b[0m\n\u001b[1;32m     15\u001b[0m subjecttrackerfile \u001b[39m=\u001b[39m \u001b[39m'\u001b[39m\u001b[39mSubject_Tracker_for_dicomdir2sourcedata.tsv\u001b[39m\u001b[39m'\u001b[39m\n\u001b[1;32m     17\u001b[0m \u001b[39m# Define path and create output dicomdir if not present\u001b[39;00m\n\u001b[0;32m---> 18\u001b[0m outputdicomdir \u001b[39m=\u001b[39m os\u001b[39m.\u001b[39mpath\u001b[39m.\u001b[39mjoin(dicombasefolder, sourcedatabasefolder, \u001b[39mf\u001b[39m\u001b[39m'\u001b[39m\u001b[39msub-\u001b[39m\u001b[39m{\u001b[39;00msubject\u001b[39m}\u001b[39;00m\u001b[39m'\u001b[39m, \u001b[39mf\u001b[39m\u001b[39m'\u001b[39m\u001b[39mses-\u001b[39m\u001b[39m{\u001b[39;00msession\u001b[39m}\u001b[39;00m\u001b[39m'\u001b[39m)\n\u001b[1;32m     19\u001b[0m \u001b[39mif\u001b[39;00m \u001b[39mnot\u001b[39;00m os\u001b[39m.\u001b[39mpath\u001b[39m.\u001b[39mexists(outputdicomdir): \u001b[39m# then make this directory\u001b[39;00m\n\u001b[1;32m     20\u001b[0m     os\u001b[39m.\u001b[39mmakedirs(outputdicomdir)\n",
      "\u001b[0;31mNameError\u001b[0m: name 'subject' is not defined"
     ]
    }
   ],
   "source": [
    "import os, subprocess\n",
    "import pandas as pd\n",
    "\n",
    "\n",
    "# Finn's Laptop\n",
    "dicombasefolder = '/mnt/d/Finn/KPUM_NODDI/DICOM_KPUM_NODDI'\n",
    "# KPUM Workstation\n",
    "#dicombasefolder = '/mnt/e/Finn/KPUM_NODDI/DICOM_KPUM_NODDI'\n",
    "\n",
    "# sourcedata base folder to go within dicom base folder\n",
    "sourcedatabasefolder = 'sourcedata'\n",
    "\n",
    "# tsv-files to keep track of in dicombasefolder\n",
    "subjecttrackerpath = os.path.join(dicombasefolder, sourcedatabasefolder)\n",
    "subjecttrackerfile = 'Subject_Tracker_for_dicomdir2sourcedata.tsv'\n",
    "\n",
    "# Read the Subject_Tracker_dicomdir2sourcedata.tsv\n",
    "subjecttrackertsv = os.path.join(subjecttrackerpath, subjecttrackerfile)\n",
    "df = pd.read_csv(subjecttrackertsv, sep=\"\\t\")\n",
    "df.fillna('', inplace=True)\n",
    "\n",
    "# Loop over entries in Subject_Tracker_dicomdir2sourcedata.tsv\n",
    "for index, row in df.iterrows() :\n",
    "    dicomdatafolder = row['dicomfolder']\n",
    "    print(f'Processing {dicomdatafolder}')\n",
    "\n",
    "    # Parse didcomdatafolder to get variables\n",
    "    subject, session, rest  = dicomdatafolder.split(\"_\", 2)\n",
    "\n",
    "    # Define path and create output dicomdir if not present\n",
    "    outputdicomdir = os.path.join(dicombasefolder, sourcedatabasefolder, f'sub-{subject}', f'ses-{session}')\n",
    "    if not os.path.exists(outputdicomdir): # then make this directory\n",
    "        os.makedirs(outputdicomdir)\n",
    "\n",
    "\n",
    "    # Check if not converted\n",
    "    if  [ df.loc[df['dicomfolder'] == dicomdatafolder, ['converted']] != 'Yes' ] :\n",
    "        # Run bash-script\n",
    "        print(\"Start re-organising and anonymizing DCMs\")\n",
    "        result = subprocess.run(f\"bash ../shell/nifti_dicomdir2sourcedata.sh {dicombasefolder} {dicomdatafolder} {subject} {session} -sourcedata {sourcedatabasefolder}\", stdout=subprocess.PIPE, shell=True)\n",
    "        #print(result.stdout)\n",
    "        # Update Subject_Tracker_dicomdir2sourcedata.tsv\n",
    "        df.loc[df['dicomfolder'] == dicomdatafolder, ['converted']] = 'Yes'\n",
    "        df.loc[df['dicomfolder'] == dicomdatafolder, ['sourcedatafolder']] = os.path.join(sourcedatabasefolder, f'sub-{subject}', f'ses-{session}')\n",
    "        df.to_csv(os.path.join(dicombasefolder, subjecttrackertsv), sep=\"\\t\", index=False)\n",
    "        print(\"Done re-organising and anonymizing DCMs\")\n",
    "    else :\n",
    "        print(\"Already converted\")\n"
   ]
  }
 ],
 "metadata": {
  "kernelspec": {
   "display_name": "kpum_wsl",
   "language": "python",
   "name": "python3"
  },
  "language_info": {
   "codemirror_mode": {
    "name": "ipython",
    "version": 3
   },
   "file_extension": ".py",
   "mimetype": "text/x-python",
   "name": "python",
   "nbconvert_exporter": "python",
   "pygments_lexer": "ipython3",
   "version": "3.10.10"
  },
  "orig_nbformat": 4
 },
 "nbformat": 4,
 "nbformat_minor": 2
}
