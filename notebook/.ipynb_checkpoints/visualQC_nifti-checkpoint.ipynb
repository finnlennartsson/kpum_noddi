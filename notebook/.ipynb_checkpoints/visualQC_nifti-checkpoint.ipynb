{
 "cells": [
  {
   "cell_type": "code",
   "execution_count": 1,
   "metadata": {},
   "outputs": [],
   "source": [
    "import os\n",
    "\n",
    "# Check these before running\n",
    "\n",
    "# Finn's Laptop\n",
    "studydir = '/mnt/d/KPUM_NODDI/Data'\n",
    "niftibasefolder = 'nifti' # nifti basefolder to go within studydir\n",
    "codedir = os.path.join(studydir, 'code', 'kpum_noddi')\n",
    "\n",
    "# KPUM Workstation\n",
    "studydir = '/mnt/e/Finn/KPUM_NODDI/Data'\n",
    "niftibasefolder = 'nifti' # nifti basefolder to go within studydir\n",
    "codedir = '/home/radio/KPUM_NODDI/code/kpum_noddi' # Workaround for issue\n",
    "\n",
    "# Finn's Laptop\n",
    "studydir = '/mnt/d/KPUM_NODDI/Data'\n",
    "niftibasefolder = 'nifti' # nifti basefolder to go within studydir\n",
    "codedir = os.path.join(studydir, 'code', 'kpum_noddi')\n",
    "\n",
    "# tsv-files to keep track of in studydir/niftibasefolder\n",
    "subjecttrackerpath = os.path.join(studydir, niftibasefolder)\n",
    "subjecttrackerfile = 'Subject_Tracker_for_sourcedata2nifti.tsv'\n",
    "\n",
    "# Visualization script in code directory\n",
    "visualizationscript = os.path.join(codedir,'shell','QC_visualize_nifti.sh')\n",
    "\n",
    "###################################################################################\n",
    "# USER INPUT - START\n",
    "\n",
    "# Participant details\n",
    "subject = '038' # e.g. '005'\n",
    "session = 'MR1' #i.e. 'MR1' or 'MR2'\n",
    "\n",
    "# USER INPUT - END\n",
    "###################################################################################\n"
   ]
  },
  {
   "cell_type": "code",
   "execution_count": null,
   "metadata": {},
   "outputs": [
    {
     "name": "stdout",
     "output_type": "stream",
     "text": [
      "Starting visual QC for nifti/sub-038/ses-MR1\n",
      "QC eye-balling of BIDS rawdata given by session_QC.tsv file\n",
      "2 anat/sub-038_ses-MR1_acq-mprage_T1w.nii\n",
      "3 anat/sub-038_ses-MR1_acq-mcrib_T2w.nii\n",
      "4 anat/sub-038_ses-MR1_acq-tra_T2w.nii\n"
     ]
    },
    {
     "name": "stderr",
     "output_type": "stream",
     "text": [
      "mrview: \u001b[00;31m[WARNING] qform and sform are inconsistent in NIfTI image \"anat/sub-038_ses-MR1_acq-tra_T2w.nii\" - using sform\u001b[0m\n"
     ]
    },
    {
     "name": "stdout",
     "output_type": "stream",
     "text": [
      "5 anat/sub-038_ses-MR1_FLAIR.nii\n",
      "6 anat/sub-038_ses-MR1_acq-t2star_T2starw.nii\n",
      "7 anat/sub-038_ses-MR1_acq-swi_T2starw.nii\n",
      "8 anat/sub-038_ses-MR1_acq-swi_rec-mnip_T2starw.nii\n",
      "9 dwi/sub-038_ses-MR1_dir-AP_dwi.nii\n",
      "b-values 0 1000 2000 with dMRI-volumes 7 24 48\n",
      "Inspecting shell with b-value=0\n",
      "b0 have this volume indices\n",
      "0,14,25,39,50,64,76\n",
      "Inspecting shell with b-value=1000\n",
      "Inspecting shell with b-value=2000\n",
      "10 fmap/sub-038_ses-MR1_dir-PA_epi.nii\n"
     ]
    }
   ],
   "source": [
    "# Create conversion file sourcedata2nifti.tsv\n",
    "import os, subprocess\n",
    "import pandas as pd\n",
    "\n",
    "# Define I/O folders and files\n",
    "niftifolder = os.path.join(niftibasefolder, os.path.join(f'sub-{subject}',f'ses-{session}'))\n",
    "niftioutputfolder = os.path.join(studydir, niftifolder)\n",
    "subjecttrackertsv = os.path.join(subjecttrackerpath, subjecttrackerfile)\n",
    "\n",
    "currdir = os.getcwd()\n",
    "os.chdir(studydir)\n",
    "\n",
    "# Read the subjecttracker file\n",
    "df = pd.read_csv(subjecttrackertsv, sep=\"\\t\")\n",
    "df.fillna('', inplace=True)\n",
    "\n",
    "# Check if ready for QC\n",
    "\n",
    "if [ df.loc[df['output'] == niftifolder ]['QC'] == 'Pending' ] :\n",
    "  print(f\"Starting visual QC for {niftifolder}\")\n",
    "  # Launch script for Visual QC\n",
    "  p=subprocess.Popen(f\"bash {visualizationscript} {subject} {session}\", stdout=subprocess.PIPE, shell=True)\n",
    "  # Poll process.stdout to show stdout live\n",
    "  while True:\n",
    "    output = p.stdout.readline()\n",
    "    if p.poll() is not None:\n",
    "      break\n",
    "    if output:\n",
    "      print(output.strip().decode(\"utf-8\"))\n",
    "  rc = p.poll()\n",
    "\n",
    "  QCstatusDone = 'y' #int(input(\"Finished editing and saved the 'session_QC.tsv' file [y/n]?\"))\n",
    "  if QCstatusDone == 'y':\n",
    "    # We update in subjectrackerfile\n",
    "    df.loc[df['output'] == niftifolder, ['QC']] = 'Done'\n",
    "    # sort the rows according to 'input'\n",
    "    df = df.sort_values(by = 'input')\n",
    "    # and write to subjecttrackertsv-file\n",
    "    df.to_csv(subjecttrackertsv, sep=\"\\t\", index=False)\n",
    "elif [ df.loc[df['output'] == niftifolder ]['QC'] == 'Done' ] :\n",
    "  print(f\"Visual QC already performed on {niftifolder}\")\n",
    "else:\n",
    "  print(f\"Status not yet ready for visual QC on {niftifolder}\")\n",
    "      \n",
    "print('End of script')\n",
    "os.chdir(currdir)\n"
   ]
  },
  {
   "cell_type": "code",
   "execution_count": null,
   "metadata": {},
   "outputs": [],
   "source": []
  }
 ],
 "metadata": {
  "kernelspec": {
   "display_name": "Python 3 (ipykernel)",
   "language": "python",
   "name": "python3"
  },
  "language_info": {
   "codemirror_mode": {
    "name": "ipython",
    "version": 3
   },
   "file_extension": ".py",
   "mimetype": "text/x-python",
   "name": "python",
   "nbconvert_exporter": "python",
   "pygments_lexer": "ipython3",
   "version": "3.10.10"
  }
 },
 "nbformat": 4,
 "nbformat_minor": 2
}
