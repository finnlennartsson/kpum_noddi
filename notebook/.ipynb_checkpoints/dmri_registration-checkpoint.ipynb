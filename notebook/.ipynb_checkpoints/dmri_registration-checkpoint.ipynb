{
 "cells": [
  {
   "cell_type": "code",
   "execution_count": 3,
   "metadata": {},
   "outputs": [],
   "source": [
    "import os\n",
    "\n",
    "###################################################################################\n",
    "# Check that these are the correct paths running (change if necessary)\n",
    "\n",
    "# Finn's Laptop\n",
    "studydir = '/mnt/d/KPUM_NODDI/Data'\n",
    "codedir = os.path.join(studydir,'code/kpum_noddi')\n",
    "\n",
    "# KPUM Workstation\n",
    "studydir = '/mnt/e/Finn/KPUM_NODDI/Data'\n",
    "codedir = os.path.join('/home/radio/KPUM_NODDI','code/kpum_noddi')\n",
    "\n",
    "# Finn's Laptop\n",
    "studydir = '/mnt/d/KPUM_NODDI/Data'\n",
    "codedir = os.path.join(studydir,'code/kpum_noddi')\n",
    "\n",
    "# Number of streamlines in whole-brain tractogram\n",
    "nbr = '10M'\n",
    "# Atlas for registration\n",
    "atlas = 'M-CRIB'\n",
    "\n",
    "###################################################################################\n",
    "# USER INPUT - START\n",
    "\n",
    "# Participant details\n",
    "subject = '0XX' # e.g. 035\n",
    "session = 'MR1' # e.g. MR1\n",
    "derivatives = 'derivatives/dMRI_np_testing_ipynb_tractography_pipeline' # e.g. derivatives/dMRI_np' or 'derivatives/dMRI_op'\n",
    "protocol = 'NEW' # 'NEW' or 'ORIG'\n",
    "\n",
    "# USER INPUT - END\n",
    "##################################################################################\n",
    "\n",
    "# tsv-files to keep track of in studydir/niftibasefolder\n",
    "subjecttrackerfile = 'Subject_Tracker_for_dmri_registration.tsv'"
   ]
  },
  {
   "cell_type": "code",
   "execution_count": 4,
   "metadata": {},
   "outputs": [
    {
     "name": "stdout",
     "output_type": "stream",
     "text": [
      "usage: dmri_5TT_registration.sh sID ssID studydir [options]\n",
      "1.  Runs the 5ttgen mcrib routine for generation of 5TT image from T2w\n",
      "Also generates/transforms M-CRIB parcellations into space-T2w\n",
      "2.  Performs registration T2 <=> dwi\n",
      "and maps T2, 5TT and M-CRIB parcellations into space-dwi\n",
      "\n",
      "Arguments:\n",
      "sID                         Subject ID (e.g. 001)\n",
      "ssID                        Session ID (e.g. MR2)\n",
      "studydir                    Studydir with full path (e.g. $PWD or /mnt/e/Finn/KPUM_NODDI/Data)\n",
      "Options:\n",
      "-t2w                        T2w image (default: $datadir/anat/orig/sub-sID_ses-ssID_acq-mcrib_T2w.nii)\n",
      "-a / -atlas\t\t\tAtlas used for parcellation (options ALBERT or MCRIB) (default: M-CRIB)\n",
      "-threads                    Number of CPUs to use (default: 10)\n",
      "-d / -data-dir  <directory> The directory used to output the preprocessed files (default: $studydir/derivatives/dMRI/sub-sID/ses-ssID)\n",
      "-h / -help / --help         Print usage.\n",
      "\n"
     ]
    },
    {
     "name": "stderr",
     "output_type": "stream",
     "text": [
      "/mnt/d/KPUM_NODDI/Data/code/kpum_noddi/shell/dmri_5TT_registration.sh: Unrecognized option -derivatives\n"
     ]
    }
   ],
   "source": [
    "import os\n",
    "\n",
    "# Define I/O folders and files\n",
    "#niftifolder = os.path.join(studydir, niftibasefolder, os.path.join(f'sub-{subject}',f'ses-{session}'))\n",
    "datadir = os.path.join(studydir, derivatives, os.path.join(f'sub-{subject}',f'ses-{session}'))\n",
    "if not os.path.exists(datadir): # then make this directory\n",
    "    os.makedirs(datadir)\n",
    "# TSV-file subject tracker file\n",
    "subjecttrackertsv = os.path.join(studydir, derivatives, subjecttrackerfile)\n",
    "\n",
    "def perform_process(processcall) :\n",
    "    import os, subprocess\n",
    "    # Perform the process given by the processcall by launching into terminal\n",
    "    p=subprocess.Popen(processcall, stdout=subprocess.PIPE, shell=True)\n",
    "    # Poll process.stdout to show stdout live\n",
    "    while True:\n",
    "        output = p.stdout.readline()\n",
    "        if p.poll() is not None:\n",
    "            break\n",
    "        if output:\n",
    "            print(output.strip().decode(\"utf-8\"))\n",
    "    rc = p.poll()\n",
    "\n",
    "\n",
    "########################################\n",
    "## START\n",
    "\n",
    "import os \n",
    "import pandas as pd\n",
    "\n",
    "currdir = os.getcwd()\n",
    "os.chdir(studydir)\n",
    "\n",
    "## Process to perform - dmri_registration\n",
    "process = 'dmri_registration'\n",
    "processfile = 'dmri_5TT_registration.sh'\n",
    "processfilepath = os.path.join(codedir,'shell', processfile)\n",
    "processcall = f\"bash {processfilepath} {subject} {session} {studydir} -derivatives {derivatives} -a {atlas} -p {protocol}\"\n",
    "perform_process(processcall)\n",
    "\n",
    "os.chdir(currdir)"
   ]
  },
  {
   "cell_type": "code",
   "execution_count": null,
   "metadata": {},
   "outputs": [],
   "source": []
  }
 ],
 "metadata": {
  "kernelspec": {
   "display_name": "Python 3 (ipykernel)",
   "language": "python",
   "name": "python3"
  },
  "language_info": {
   "codemirror_mode": {
    "name": "ipython",
    "version": 3
   },
   "file_extension": ".py",
   "mimetype": "text/x-python",
   "name": "python",
   "nbconvert_exporter": "python",
   "pygments_lexer": "ipython3",
   "version": "3.10.10"
  }
 },
 "nbformat": 4,
 "nbformat_minor": 2
}
