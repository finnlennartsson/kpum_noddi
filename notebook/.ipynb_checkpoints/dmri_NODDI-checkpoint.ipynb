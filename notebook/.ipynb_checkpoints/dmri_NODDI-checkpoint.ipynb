{
 "cells": [
  {
   "cell_type": "code",
   "execution_count": 1,
   "metadata": {},
   "outputs": [],
   "source": [
    "import os\n",
    "\n",
    "# Check these before running\n",
    "\n",
    "# Finn's Laptop\n",
    "studydir = '/mnt/s/Research/Projects/KPUM_NODDI/Data'\n",
    "datadirbasefolder = 'derivatives/dMRI_OrigProtocol'\n",
    "\n",
    "# tsv-files to keep track of in studydir/niftibasefolder\n",
    "subjecttrackerpath = os.path.join(studydir, datadirbasefolder)\n",
    "subjecttrackerfile = 'Subject_Tracker_for_dmri_pipeline.tsv'\n",
    "\n",
    "###################################################################################\n",
    "# USER INPUT\n",
    "\n",
    "# Participant details\n",
    "subject = '022'\n",
    "session = 'MR1'"
   ]
  },
  {
   "cell_type": "code",
   "execution_count": 2,
   "metadata": {},
   "outputs": [],
   "source": [
    "import os\n",
    "\n",
    "# Define I/O folders and files\n",
    "datadir = os.path.join(studydir, datadirbasefolder, os.path.join(f'sub-{subject}',f'ses-{session}'), 'dwi')\n",
    "if not os.path.exists(datadir): # then make this directory\n",
    "    os.makedirs(datadir)\n",
    "subjecttrackertsv = os.path.join(subjecttrackerpath, subjecttrackerfile)\n",
    "dwifilebase=f\"sub-{subject}_ses-{session}_desc-preproc-inorm_dwi\"\n",
    "maskfilebase=f\"sub-{subject}_ses-{session}_space-dwi_mask\""
   ]
  },
  {
   "cell_type": "code",
   "execution_count": null,
   "metadata": {},
   "outputs": [
    {
     "name": "stdout",
     "output_type": "stream",
     "text": [
      "-> Writing scheme file to [ /mnt/s/Research/Projects/KPUM_NODDI/Data/derivatives/dMRI_OrigProtocol/sub-022/ses-MR1/dwi/sub-022_ses-MR1_desc-preproc-inorm_dwi.scheme ]\n",
      "\u001b[0;32m\n",
      "-> Loading data:\u001b[0m\n",
      "\t* DWI signal\n",
      "\t\t- dim    = 80 x 80 x 50 x 73\n",
      "\t\t- pixdim = 2.500 x 2.500 x 2.500\n",
      "\t* Acquisition scheme\n",
      "\t\t- 73 samples, 2 shells\n",
      "\t\t- 1 @ b=0 , 24 @ b=1000.0 , 48 @ b=2000.0 \n",
      "\t* Binary mask\n",
      "\t\t- dim    = 80 x 80 x 50\n",
      "\t\t- pixdim = 2.500 x 2.500 x 2.500\n",
      "\t\t- voxels = 31473\n",
      "\u001b[0;32m   [ 13.6 seconds ]\u001b[0m\n",
      "\u001b[0;32m\n",
      "-> Preprocessing:\u001b[0m\n",
      "\t* Normalizing to b0... [ min=-676656.19,  mean=5.50, max=19138602.00 ]\n",
      "\t* Keeping all b0 volume(s)\n",
      "\u001b[0;32m   [ 0.3 seconds ]\u001b[0m\n",
      "\u001b[0;32m\n",
      "-> Creating LUT for \"NODDI\" model:\u001b[0m\n"
     ]
    },
    {
     "name": "stderr",
     "output_type": "stream",
     "text": [
      "   |███████████▍                                               | 19.3%"
     ]
    }
   ],
   "source": [
    "\n",
    "# Running amico with NODDI according to instructions\n",
    "# See\n",
    "# https://github.com/daducci/AMICO/wiki/Fitting-the-NODDI-model\n",
    "# and more condensed in \n",
    "# https://github.com/daducci/AMICO/wiki/Decreasing-the-angular-resolution-of-the-look-up-tables#exxample-script\n",
    "\n",
    "import amico\n",
    "#amico.setup() # to be run only once\n",
    "\n",
    "currdir = os.getcwd()\n",
    "os.chdir(studydir)\n",
    "\n",
    "# Save gradient scheme\n",
    "amico.util.fsl2scheme(os.path.join(datadir, f\"{dwifilebase}.bval\"),os.path.join(datadir, f\"{dwifilebase}.bvec\"))\n",
    "\n",
    "# Start AMICO \n",
    "ae = amico.Evaluation(datadirbasefolder, os.path.join(f'sub-{subject}', f'ses-{session}', 'dwi') )\n",
    "ae.load_data( dwi_filename=os.path.join(datadir, f\"{dwifilebase}.nii\"), scheme_filename=os.path.join(datadir, f\"{dwifilebase}.scheme\"), mask_filename=os.path.join(datadir, f\"{maskfilebase}.nii\"), b0_thr=0 )\n",
    "\n",
    "# Set model to NODDI\n",
    "ae.set_model( \"NODDI\" )\n",
    "\n",
    "# now change the radial diffusivity\n",
    "dPar=1.7e-3 #1.45e-3\n",
    "# use function set() to change the dPar in NODDI-model\n",
    "\n",
    "ae.generate_kernels( regenerate=True ) # Save kernel in datadirbasefolder - tag this with name corresponding to model\n",
    "ae.load_kernels()\n",
    "\n",
    "ae.fit()\n",
    "ae.save_results(path_suffix=f'dPar={dPar:.2e}')\n",
    "\n",
    "os.chdir(currdir)\n"
   ]
  },
  {
   "cell_type": "code",
   "execution_count": null,
   "metadata": {},
   "outputs": [],
   "source": []
  }
 ],
 "metadata": {
  "kernelspec": {
   "display_name": "Python 3 (ipykernel)",
   "language": "python",
   "name": "python3"
  },
  "language_info": {
   "codemirror_mode": {
    "name": "ipython",
    "version": 3
   },
   "file_extension": ".py",
   "mimetype": "text/x-python",
   "name": "python",
   "nbconvert_exporter": "python",
   "pygments_lexer": "ipython3",
   "version": "3.10.10"
  }
 },
 "nbformat": 4,
 "nbformat_minor": 2
}
